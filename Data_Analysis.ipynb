{
 "cells": [
  {
   "cell_type": "code",
   "execution_count": 246,
   "metadata": {},
   "outputs": [],
   "source": [
    "# importing all the required packages\n",
    "import pandas as pd\n",
    "import numpy as np\n",
    "from sklearn.preprocessing import MinMaxScaler\n",
    "import matplotlib.pyplot as plt\n",
    "import statistics\n",
    "import scipy\n",
    "from scipy.optimize import curve_fit\n",
    "from statistics import mean"
   ]
  },
  {
   "cell_type": "markdown",
   "metadata": {},
   "source": [
    "# Syringe pressure measurement"
   ]
  },
  {
   "cell_type": "markdown",
   "metadata": {},
   "source": [
    "### Data Preparation"
   ]
  },
  {
   "cell_type": "code",
   "execution_count": 247,
   "metadata": {
    "scrolled": true
   },
   "outputs": [
    {
     "data": {
      "text/html": [
       "<div>\n",
       "<style scoped>\n",
       "    .dataframe tbody tr th:only-of-type {\n",
       "        vertical-align: middle;\n",
       "    }\n",
       "\n",
       "    .dataframe tbody tr th {\n",
       "        vertical-align: top;\n",
       "    }\n",
       "\n",
       "    .dataframe thead th {\n",
       "        text-align: right;\n",
       "    }\n",
       "</style>\n",
       "<table border=\"1\" class=\"dataframe\">\n",
       "  <thead>\n",
       "    <tr style=\"text-align: right;\">\n",
       "      <th></th>\n",
       "      <th>Number\\tAnalog in 1\\tAnalog in 2</th>\n",
       "    </tr>\n",
       "  </thead>\n",
       "  <tbody>\n",
       "    <tr>\n",
       "      <th>0</th>\n",
       "      <td>n/#\\tU1/V\\tU2/V</td>\n",
       "    </tr>\n",
       "    <tr>\n",
       "      <th>1</th>\n",
       "      <td>1.0\\t-0.01\\t2.54</td>\n",
       "    </tr>\n",
       "    <tr>\n",
       "      <th>2</th>\n",
       "      <td>2.0\\t0.00\\t2.72</td>\n",
       "    </tr>\n",
       "    <tr>\n",
       "      <th>3</th>\n",
       "      <td>3.0\\t-0.01\\t2.87</td>\n",
       "    </tr>\n",
       "    <tr>\n",
       "      <th>4</th>\n",
       "      <td>4.0\\t0.00\\t3.03</td>\n",
       "    </tr>\n",
       "    <tr>\n",
       "      <th>5</th>\n",
       "      <td>5.0\\t0.00\\t3.20</td>\n",
       "    </tr>\n",
       "    <tr>\n",
       "      <th>6</th>\n",
       "      <td>6.0\\t0.00\\t3.39</td>\n",
       "    </tr>\n",
       "    <tr>\n",
       "      <th>7</th>\n",
       "      <td>7.0\\t-0.01\\t3.61</td>\n",
       "    </tr>\n",
       "    <tr>\n",
       "      <th>8</th>\n",
       "      <td>8.0\\t0.00\\t3.77</td>\n",
       "    </tr>\n",
       "    <tr>\n",
       "      <th>9</th>\n",
       "      <td>9.0\\t-0.01\\t3.97</td>\n",
       "    </tr>\n",
       "    <tr>\n",
       "      <th>10</th>\n",
       "      <td>10.0\\t0.00\\t4.23</td>\n",
       "    </tr>\n",
       "    <tr>\n",
       "      <th>11</th>\n",
       "      <td>11.0\\t0.00\\t4.48</td>\n",
       "    </tr>\n",
       "    <tr>\n",
       "      <th>12</th>\n",
       "      <td>12.0\\t-0.01\\t4.77</td>\n",
       "    </tr>\n",
       "    <tr>\n",
       "      <th>13</th>\n",
       "      <td>13.0\\t0.00\\t5.20</td>\n",
       "    </tr>\n",
       "    <tr>\n",
       "      <th>14</th>\n",
       "      <td>14.0\\t0.00\\t5.44</td>\n",
       "    </tr>\n",
       "    <tr>\n",
       "      <th>15</th>\n",
       "      <td>15.0\\t-0.01\\t5.83</td>\n",
       "    </tr>\n",
       "    <tr>\n",
       "      <th>16</th>\n",
       "      <td>16.0\\t-0.01\\t6.25</td>\n",
       "    </tr>\n",
       "    <tr>\n",
       "      <th>17</th>\n",
       "      <td>17.0\\t-0.01\\t6.70</td>\n",
       "    </tr>\n",
       "    <tr>\n",
       "      <th>18</th>\n",
       "      <td>18.0\\t-0.01\\t7.16</td>\n",
       "    </tr>\n",
       "  </tbody>\n",
       "</table>\n",
       "</div>"
      ],
      "text/plain": [
       "   Number\\tAnalog in 1\\tAnalog in 2\n",
       "0                   n/#\\tU1/V\\tU2/V\n",
       "1                  1.0\\t-0.01\\t2.54\n",
       "2                   2.0\\t0.00\\t2.72\n",
       "3                  3.0\\t-0.01\\t2.87\n",
       "4                   4.0\\t0.00\\t3.03\n",
       "5                   5.0\\t0.00\\t3.20\n",
       "6                   6.0\\t0.00\\t3.39\n",
       "7                  7.0\\t-0.01\\t3.61\n",
       "8                   8.0\\t0.00\\t3.77\n",
       "9                  9.0\\t-0.01\\t3.97\n",
       "10                 10.0\\t0.00\\t4.23\n",
       "11                 11.0\\t0.00\\t4.48\n",
       "12                12.0\\t-0.01\\t4.77\n",
       "13                 13.0\\t0.00\\t5.20\n",
       "14                 14.0\\t0.00\\t5.44\n",
       "15                15.0\\t-0.01\\t5.83\n",
       "16                16.0\\t-0.01\\t6.25\n",
       "17                17.0\\t-0.01\\t6.70\n",
       "18                18.0\\t-0.01\\t7.16"
      ]
     },
     "execution_count": 247,
     "metadata": {},
     "output_type": "execute_result"
    }
   ],
   "source": [
    "# reading csv to dataframe\n",
    "\n",
    "read_df1 = pd.read_csv(\"Data2/syringe1.csv\")\n",
    "read_df1"
   ]
  },
  {
   "cell_type": "code",
   "execution_count": 248,
   "metadata": {
    "scrolled": true
   },
   "outputs": [
    {
     "data": {
      "text/html": [
       "<div>\n",
       "<style scoped>\n",
       "    .dataframe tbody tr th:only-of-type {\n",
       "        vertical-align: middle;\n",
       "    }\n",
       "\n",
       "    .dataframe tbody tr th {\n",
       "        vertical-align: top;\n",
       "    }\n",
       "\n",
       "    .dataframe thead th {\n",
       "        text-align: right;\n",
       "    }\n",
       "</style>\n",
       "<table border=\"1\" class=\"dataframe\">\n",
       "  <thead>\n",
       "    <tr style=\"text-align: right;\">\n",
       "      <th></th>\n",
       "      <th>n</th>\n",
       "      <th>Volume</th>\n",
       "      <th>Pressure</th>\n",
       "    </tr>\n",
       "  </thead>\n",
       "  <tbody>\n",
       "    <tr>\n",
       "      <th>1</th>\n",
       "      <td>1.0</td>\n",
       "      <td>-0.01</td>\n",
       "      <td>2.54</td>\n",
       "    </tr>\n",
       "    <tr>\n",
       "      <th>2</th>\n",
       "      <td>2.0</td>\n",
       "      <td>0.00</td>\n",
       "      <td>2.72</td>\n",
       "    </tr>\n",
       "    <tr>\n",
       "      <th>3</th>\n",
       "      <td>3.0</td>\n",
       "      <td>-0.01</td>\n",
       "      <td>2.87</td>\n",
       "    </tr>\n",
       "    <tr>\n",
       "      <th>4</th>\n",
       "      <td>4.0</td>\n",
       "      <td>0.00</td>\n",
       "      <td>3.03</td>\n",
       "    </tr>\n",
       "    <tr>\n",
       "      <th>5</th>\n",
       "      <td>5.0</td>\n",
       "      <td>0.00</td>\n",
       "      <td>3.20</td>\n",
       "    </tr>\n",
       "    <tr>\n",
       "      <th>6</th>\n",
       "      <td>6.0</td>\n",
       "      <td>0.00</td>\n",
       "      <td>3.39</td>\n",
       "    </tr>\n",
       "    <tr>\n",
       "      <th>7</th>\n",
       "      <td>7.0</td>\n",
       "      <td>-0.01</td>\n",
       "      <td>3.61</td>\n",
       "    </tr>\n",
       "    <tr>\n",
       "      <th>8</th>\n",
       "      <td>8.0</td>\n",
       "      <td>0.00</td>\n",
       "      <td>3.77</td>\n",
       "    </tr>\n",
       "    <tr>\n",
       "      <th>9</th>\n",
       "      <td>9.0</td>\n",
       "      <td>-0.01</td>\n",
       "      <td>3.97</td>\n",
       "    </tr>\n",
       "    <tr>\n",
       "      <th>10</th>\n",
       "      <td>10.0</td>\n",
       "      <td>0.00</td>\n",
       "      <td>4.23</td>\n",
       "    </tr>\n",
       "    <tr>\n",
       "      <th>11</th>\n",
       "      <td>11.0</td>\n",
       "      <td>0.00</td>\n",
       "      <td>4.48</td>\n",
       "    </tr>\n",
       "    <tr>\n",
       "      <th>12</th>\n",
       "      <td>12.0</td>\n",
       "      <td>-0.01</td>\n",
       "      <td>4.77</td>\n",
       "    </tr>\n",
       "    <tr>\n",
       "      <th>13</th>\n",
       "      <td>13.0</td>\n",
       "      <td>0.00</td>\n",
       "      <td>5.20</td>\n",
       "    </tr>\n",
       "    <tr>\n",
       "      <th>14</th>\n",
       "      <td>14.0</td>\n",
       "      <td>0.00</td>\n",
       "      <td>5.44</td>\n",
       "    </tr>\n",
       "    <tr>\n",
       "      <th>15</th>\n",
       "      <td>15.0</td>\n",
       "      <td>-0.01</td>\n",
       "      <td>5.83</td>\n",
       "    </tr>\n",
       "    <tr>\n",
       "      <th>16</th>\n",
       "      <td>16.0</td>\n",
       "      <td>-0.01</td>\n",
       "      <td>6.25</td>\n",
       "    </tr>\n",
       "    <tr>\n",
       "      <th>17</th>\n",
       "      <td>17.0</td>\n",
       "      <td>-0.01</td>\n",
       "      <td>6.70</td>\n",
       "    </tr>\n",
       "    <tr>\n",
       "      <th>18</th>\n",
       "      <td>18.0</td>\n",
       "      <td>-0.01</td>\n",
       "      <td>7.16</td>\n",
       "    </tr>\n",
       "  </tbody>\n",
       "</table>\n",
       "</div>"
      ],
      "text/plain": [
       "       n  Volume  Pressure\n",
       "1    1.0   -0.01      2.54\n",
       "2    2.0    0.00      2.72\n",
       "3    3.0   -0.01      2.87\n",
       "4    4.0    0.00      3.03\n",
       "5    5.0    0.00      3.20\n",
       "6    6.0    0.00      3.39\n",
       "7    7.0   -0.01      3.61\n",
       "8    8.0    0.00      3.77\n",
       "9    9.0   -0.01      3.97\n",
       "10  10.0    0.00      4.23\n",
       "11  11.0    0.00      4.48\n",
       "12  12.0   -0.01      4.77\n",
       "13  13.0    0.00      5.20\n",
       "14  14.0    0.00      5.44\n",
       "15  15.0   -0.01      5.83\n",
       "16  16.0   -0.01      6.25\n",
       "17  17.0   -0.01      6.70\n",
       "18  18.0   -0.01      7.16"
      ]
     },
     "execution_count": 248,
     "metadata": {},
     "output_type": "execute_result"
    }
   ],
   "source": [
    "# converting messy formating table (table in the cell above) to a a well-structured one with correct header\n",
    "df1 = (pd.DataFrame(read_df1['Number\\tAnalog in 1\\tAnalog in 2'].str.split('\\t').tolist(), columns=['n','Volume','Pressure'])).iloc[1:,:]\n",
    "\n",
    "# converting the data type from string to numeric (float)\n",
    "df1['Pressure'] = pd.to_numeric(df1['Pressure'])\n",
    "df1['Volume'] = pd.to_numeric(df1['Volume'])\n",
    "df1"
   ]
  },
  {
   "cell_type": "code",
   "execution_count": 249,
   "metadata": {},
   "outputs": [],
   "source": [
    "# defining some pre-determined quantities\n",
    "\n",
    "Vinit = 38  # initial volume before the syringe was pushed\n",
    "Vfinal = 38 - 3.4 # final volume when the syringe has been pushed to minimum volume\n",
    "Pinit = 101 # atmospheric pressure 101 kPa (initial pressure before the syringe was pushed)"
   ]
  },
  {
   "cell_type": "code",
   "execution_count": 250,
   "metadata": {},
   "outputs": [],
   "source": [
    "# from ideal gas law, PV = nRT, where nRT is always constant in this part of the experiment\n",
    "\n",
    "nRT = Vinit * Pinit"
   ]
  },
  {
   "cell_type": "code",
   "execution_count": 251,
   "metadata": {},
   "outputs": [
    {
     "data": {
      "text/plain": [
       "110.92485549132948"
      ]
     },
     "execution_count": 251,
     "metadata": {},
     "output_type": "execute_result"
    }
   ],
   "source": [
    "# Calculate final pressure from ideal gas law P = nRT/V\n",
    "\n",
    "Pfinal = nRT / Vfinal\n",
    "Pfinal"
   ]
  },
  {
   "cell_type": "code",
   "execution_count": 253,
   "metadata": {},
   "outputs": [],
   "source": [
    "# scaling the data of the pressure from range 101 kPA (Pinit) to 110.92 (Pfinal)\n",
    "scaler = MinMaxScaler(feature_range=(Pinit,Pfinal))\n",
    "pres = df1['Pressure'].values.reshape(-1, 1)\n",
    "scaler.fit(pres)\n",
    "pres2 = scaler.transform(pres)\n",
    "df1['Pressure (physical)'] = pres2"
   ]
  },
  {
   "cell_type": "code",
   "execution_count": 254,
   "metadata": {},
   "outputs": [],
   "source": [
    "# input the data of the syringe volume\n",
    "# initial volume is 6 ml with increment of 0.2 for every click\n",
    "syringe_volume = []\n",
    "for i in range(18):\n",
    "    syringe_volume.append(6.0-i*0.2)\n",
    "df1['Syringe Volume'] = syringe_volume"
   ]
  },
  {
   "cell_type": "code",
   "execution_count": 258,
   "metadata": {},
   "outputs": [],
   "source": [
    "# scaling the data of the pressure from range 38 (Vinit) to 34.6 (Vfinal)\n",
    "scaler = MinMaxScaler(feature_range=(Vfinal,Vinit))\n",
    "vol = df1['Syringe Volume'].values.reshape(-1, 1)\n",
    "scaler.fit(vol)\n",
    "vol2 = scaler.transform(vol)\n",
    "df1['Volume (physical)'] = vol2"
   ]
  },
  {
   "cell_type": "code",
   "execution_count": 259,
   "metadata": {
    "scrolled": true
   },
   "outputs": [
    {
     "data": {
      "text/html": [
       "<div>\n",
       "<style scoped>\n",
       "    .dataframe tbody tr th:only-of-type {\n",
       "        vertical-align: middle;\n",
       "    }\n",
       "\n",
       "    .dataframe tbody tr th {\n",
       "        vertical-align: top;\n",
       "    }\n",
       "\n",
       "    .dataframe thead th {\n",
       "        text-align: right;\n",
       "    }\n",
       "</style>\n",
       "<table border=\"1\" class=\"dataframe\">\n",
       "  <thead>\n",
       "    <tr style=\"text-align: right;\">\n",
       "      <th></th>\n",
       "      <th>n</th>\n",
       "      <th>Volume</th>\n",
       "      <th>Pressure</th>\n",
       "      <th>Pressure (physical)</th>\n",
       "      <th>Syringe Volume</th>\n",
       "      <th>Volume (physical)</th>\n",
       "      <th>nRT</th>\n",
       "    </tr>\n",
       "  </thead>\n",
       "  <tbody>\n",
       "    <tr>\n",
       "      <th>1</th>\n",
       "      <td>1.0</td>\n",
       "      <td>-0.01</td>\n",
       "      <td>2.54</td>\n",
       "      <td>101.000000</td>\n",
       "      <td>6.0</td>\n",
       "      <td>38.0</td>\n",
       "      <td>3838.000000</td>\n",
       "    </tr>\n",
       "    <tr>\n",
       "      <th>2</th>\n",
       "      <td>2.0</td>\n",
       "      <td>0.00</td>\n",
       "      <td>2.72</td>\n",
       "      <td>101.386683</td>\n",
       "      <td>5.8</td>\n",
       "      <td>37.8</td>\n",
       "      <td>3832.416605</td>\n",
       "    </tr>\n",
       "    <tr>\n",
       "      <th>3</th>\n",
       "      <td>3.0</td>\n",
       "      <td>-0.01</td>\n",
       "      <td>2.87</td>\n",
       "      <td>101.708918</td>\n",
       "      <td>5.6</td>\n",
       "      <td>37.6</td>\n",
       "      <td>3824.255326</td>\n",
       "    </tr>\n",
       "    <tr>\n",
       "      <th>4</th>\n",
       "      <td>4.0</td>\n",
       "      <td>0.00</td>\n",
       "      <td>3.03</td>\n",
       "      <td>102.052636</td>\n",
       "      <td>5.4</td>\n",
       "      <td>37.4</td>\n",
       "      <td>3816.768593</td>\n",
       "    </tr>\n",
       "    <tr>\n",
       "      <th>5</th>\n",
       "      <td>5.0</td>\n",
       "      <td>0.00</td>\n",
       "      <td>3.20</td>\n",
       "      <td>102.417836</td>\n",
       "      <td>5.2</td>\n",
       "      <td>37.2</td>\n",
       "      <td>3809.943518</td>\n",
       "    </tr>\n",
       "    <tr>\n",
       "      <th>6</th>\n",
       "      <td>6.0</td>\n",
       "      <td>0.00</td>\n",
       "      <td>3.39</td>\n",
       "      <td>102.826002</td>\n",
       "      <td>5.0</td>\n",
       "      <td>37.0</td>\n",
       "      <td>3804.562057</td>\n",
       "    </tr>\n",
       "    <tr>\n",
       "      <th>7</th>\n",
       "      <td>7.0</td>\n",
       "      <td>-0.01</td>\n",
       "      <td>3.61</td>\n",
       "      <td>103.298614</td>\n",
       "      <td>4.8</td>\n",
       "      <td>36.8</td>\n",
       "      <td>3801.388985</td>\n",
       "    </tr>\n",
       "    <tr>\n",
       "      <th>8</th>\n",
       "      <td>8.0</td>\n",
       "      <td>0.00</td>\n",
       "      <td>3.77</td>\n",
       "      <td>103.642332</td>\n",
       "      <td>4.6</td>\n",
       "      <td>36.6</td>\n",
       "      <td>3793.309339</td>\n",
       "    </tr>\n",
       "    <tr>\n",
       "      <th>9</th>\n",
       "      <td>9.0</td>\n",
       "      <td>-0.01</td>\n",
       "      <td>3.97</td>\n",
       "      <td>104.071979</td>\n",
       "      <td>4.4</td>\n",
       "      <td>36.4</td>\n",
       "      <td>3788.220039</td>\n",
       "    </tr>\n",
       "    <tr>\n",
       "      <th>10</th>\n",
       "      <td>10.0</td>\n",
       "      <td>0.00</td>\n",
       "      <td>4.23</td>\n",
       "      <td>104.630521</td>\n",
       "      <td>4.2</td>\n",
       "      <td>36.2</td>\n",
       "      <td>3787.624850</td>\n",
       "    </tr>\n",
       "    <tr>\n",
       "      <th>11</th>\n",
       "      <td>11.0</td>\n",
       "      <td>0.00</td>\n",
       "      <td>4.48</td>\n",
       "      <td>105.167580</td>\n",
       "      <td>4.0</td>\n",
       "      <td>36.0</td>\n",
       "      <td>3786.032880</td>\n",
       "    </tr>\n",
       "    <tr>\n",
       "      <th>12</th>\n",
       "      <td>12.0</td>\n",
       "      <td>-0.01</td>\n",
       "      <td>4.77</td>\n",
       "      <td>105.790569</td>\n",
       "      <td>3.8</td>\n",
       "      <td>35.8</td>\n",
       "      <td>3787.302362</td>\n",
       "    </tr>\n",
       "    <tr>\n",
       "      <th>13</th>\n",
       "      <td>13.0</td>\n",
       "      <td>0.00</td>\n",
       "      <td>5.20</td>\n",
       "      <td>106.714311</td>\n",
       "      <td>3.6</td>\n",
       "      <td>35.6</td>\n",
       "      <td>3799.029462</td>\n",
       "    </tr>\n",
       "    <tr>\n",
       "      <th>14</th>\n",
       "      <td>14.0</td>\n",
       "      <td>0.00</td>\n",
       "      <td>5.44</td>\n",
       "      <td>107.229888</td>\n",
       "      <td>3.4</td>\n",
       "      <td>35.4</td>\n",
       "      <td>3795.938023</td>\n",
       "    </tr>\n",
       "    <tr>\n",
       "      <th>15</th>\n",
       "      <td>15.0</td>\n",
       "      <td>-0.01</td>\n",
       "      <td>5.83</td>\n",
       "      <td>108.067700</td>\n",
       "      <td>3.2</td>\n",
       "      <td>35.2</td>\n",
       "      <td>3803.983044</td>\n",
       "    </tr>\n",
       "    <tr>\n",
       "      <th>16</th>\n",
       "      <td>16.0</td>\n",
       "      <td>-0.01</td>\n",
       "      <td>6.25</td>\n",
       "      <td>108.969960</td>\n",
       "      <td>3.0</td>\n",
       "      <td>35.0</td>\n",
       "      <td>3813.948590</td>\n",
       "    </tr>\n",
       "    <tr>\n",
       "      <th>17</th>\n",
       "      <td>17.0</td>\n",
       "      <td>-0.01</td>\n",
       "      <td>6.70</td>\n",
       "      <td>109.936666</td>\n",
       "      <td>2.8</td>\n",
       "      <td>34.8</td>\n",
       "      <td>3825.795991</td>\n",
       "    </tr>\n",
       "    <tr>\n",
       "      <th>18</th>\n",
       "      <td>18.0</td>\n",
       "      <td>-0.01</td>\n",
       "      <td>7.16</td>\n",
       "      <td>110.924855</td>\n",
       "      <td>2.6</td>\n",
       "      <td>34.6</td>\n",
       "      <td>3838.000000</td>\n",
       "    </tr>\n",
       "  </tbody>\n",
       "</table>\n",
       "</div>"
      ],
      "text/plain": [
       "       n  Volume  Pressure  Pressure (physical)  Syringe Volume  \\\n",
       "1    1.0   -0.01      2.54           101.000000             6.0   \n",
       "2    2.0    0.00      2.72           101.386683             5.8   \n",
       "3    3.0   -0.01      2.87           101.708918             5.6   \n",
       "4    4.0    0.00      3.03           102.052636             5.4   \n",
       "5    5.0    0.00      3.20           102.417836             5.2   \n",
       "6    6.0    0.00      3.39           102.826002             5.0   \n",
       "7    7.0   -0.01      3.61           103.298614             4.8   \n",
       "8    8.0    0.00      3.77           103.642332             4.6   \n",
       "9    9.0   -0.01      3.97           104.071979             4.4   \n",
       "10  10.0    0.00      4.23           104.630521             4.2   \n",
       "11  11.0    0.00      4.48           105.167580             4.0   \n",
       "12  12.0   -0.01      4.77           105.790569             3.8   \n",
       "13  13.0    0.00      5.20           106.714311             3.6   \n",
       "14  14.0    0.00      5.44           107.229888             3.4   \n",
       "15  15.0   -0.01      5.83           108.067700             3.2   \n",
       "16  16.0   -0.01      6.25           108.969960             3.0   \n",
       "17  17.0   -0.01      6.70           109.936666             2.8   \n",
       "18  18.0   -0.01      7.16           110.924855             2.6   \n",
       "\n",
       "    Volume (physical)          nRT  \n",
       "1                38.0  3838.000000  \n",
       "2                37.8  3832.416605  \n",
       "3                37.6  3824.255326  \n",
       "4                37.4  3816.768593  \n",
       "5                37.2  3809.943518  \n",
       "6                37.0  3804.562057  \n",
       "7                36.8  3801.388985  \n",
       "8                36.6  3793.309339  \n",
       "9                36.4  3788.220039  \n",
       "10               36.2  3787.624850  \n",
       "11               36.0  3786.032880  \n",
       "12               35.8  3787.302362  \n",
       "13               35.6  3799.029462  \n",
       "14               35.4  3795.938023  \n",
       "15               35.2  3803.983044  \n",
       "16               35.0  3813.948590  \n",
       "17               34.8  3825.795991  \n",
       "18               34.6  3838.000000  "
      ]
     },
     "execution_count": 259,
     "metadata": {},
     "output_type": "execute_result"
    }
   ],
   "source": [
    "# calculating nRT using P * V for all the observations\n",
    "\n",
    "df1['nRT'] = df1['Pressure (physical)'] * df1['Volume (physical)']\n",
    "df1"
   ]
  },
  {
   "cell_type": "code",
   "execution_count": 257,
   "metadata": {},
   "outputs": [],
   "source": [
    "# to save the cleaned data (table above) into excel, remove the '#' to run\n",
    "# df1.to_excel('syringe_converted1.xlsx')"
   ]
  },
  {
   "cell_type": "code",
   "execution_count": 260,
   "metadata": {},
   "outputs": [
    {
     "data": {
      "text/html": [
       "<div>\n",
       "<style scoped>\n",
       "    .dataframe tbody tr th:only-of-type {\n",
       "        vertical-align: middle;\n",
       "    }\n",
       "\n",
       "    .dataframe tbody tr th {\n",
       "        vertical-align: top;\n",
       "    }\n",
       "\n",
       "    .dataframe thead th {\n",
       "        text-align: right;\n",
       "    }\n",
       "</style>\n",
       "<table border=\"1\" class=\"dataframe\">\n",
       "  <thead>\n",
       "    <tr style=\"text-align: right;\">\n",
       "      <th></th>\n",
       "      <th>Volume</th>\n",
       "      <th>Pressure</th>\n",
       "      <th>Pressure (physical)</th>\n",
       "      <th>Syringe Volume</th>\n",
       "      <th>Volume (physical)</th>\n",
       "      <th>nRT</th>\n",
       "    </tr>\n",
       "  </thead>\n",
       "  <tbody>\n",
       "    <tr>\n",
       "      <th>count</th>\n",
       "      <td>18.000000</td>\n",
       "      <td>18.000000</td>\n",
       "      <td>18.000000</td>\n",
       "      <td>18.000000</td>\n",
       "      <td>18.000000</td>\n",
       "      <td>18.000000</td>\n",
       "    </tr>\n",
       "    <tr>\n",
       "      <th>mean</th>\n",
       "      <td>-0.005000</td>\n",
       "      <td>4.397778</td>\n",
       "      <td>104.990947</td>\n",
       "      <td>4.300000</td>\n",
       "      <td>36.300000</td>\n",
       "      <td>3808.139981</td>\n",
       "    </tr>\n",
       "    <tr>\n",
       "      <th>std</th>\n",
       "      <td>0.005145</td>\n",
       "      <td>1.423222</td>\n",
       "      <td>3.057417</td>\n",
       "      <td>1.067708</td>\n",
       "      <td>1.067708</td>\n",
       "      <td>17.696095</td>\n",
       "    </tr>\n",
       "    <tr>\n",
       "      <th>min</th>\n",
       "      <td>-0.010000</td>\n",
       "      <td>2.540000</td>\n",
       "      <td>101.000000</td>\n",
       "      <td>2.600000</td>\n",
       "      <td>34.600000</td>\n",
       "      <td>3786.032880</td>\n",
       "    </tr>\n",
       "    <tr>\n",
       "      <th>25%</th>\n",
       "      <td>-0.010000</td>\n",
       "      <td>3.247500</td>\n",
       "      <td>102.519878</td>\n",
       "      <td>3.450000</td>\n",
       "      <td>35.450000</td>\n",
       "      <td>3793.966510</td>\n",
       "    </tr>\n",
       "    <tr>\n",
       "      <th>50%</th>\n",
       "      <td>-0.005000</td>\n",
       "      <td>4.100000</td>\n",
       "      <td>104.351250</td>\n",
       "      <td>4.300000</td>\n",
       "      <td>36.300000</td>\n",
       "      <td>3804.272551</td>\n",
       "    </tr>\n",
       "    <tr>\n",
       "      <th>75%</th>\n",
       "      <td>0.000000</td>\n",
       "      <td>5.380000</td>\n",
       "      <td>107.100993</td>\n",
       "      <td>5.150000</td>\n",
       "      <td>37.150000</td>\n",
       "      <td>3822.383643</td>\n",
       "    </tr>\n",
       "    <tr>\n",
       "      <th>max</th>\n",
       "      <td>0.000000</td>\n",
       "      <td>7.160000</td>\n",
       "      <td>110.924855</td>\n",
       "      <td>6.000000</td>\n",
       "      <td>38.000000</td>\n",
       "      <td>3838.000000</td>\n",
       "    </tr>\n",
       "  </tbody>\n",
       "</table>\n",
       "</div>"
      ],
      "text/plain": [
       "          Volume   Pressure  Pressure (physical)  Syringe Volume  \\\n",
       "count  18.000000  18.000000            18.000000       18.000000   \n",
       "mean   -0.005000   4.397778           104.990947        4.300000   \n",
       "std     0.005145   1.423222             3.057417        1.067708   \n",
       "min    -0.010000   2.540000           101.000000        2.600000   \n",
       "25%    -0.010000   3.247500           102.519878        3.450000   \n",
       "50%    -0.005000   4.100000           104.351250        4.300000   \n",
       "75%     0.000000   5.380000           107.100993        5.150000   \n",
       "max     0.000000   7.160000           110.924855        6.000000   \n",
       "\n",
       "       Volume (physical)          nRT  \n",
       "count          18.000000    18.000000  \n",
       "mean           36.300000  3808.139981  \n",
       "std             1.067708    17.696095  \n",
       "min            34.600000  3786.032880  \n",
       "25%            35.450000  3793.966510  \n",
       "50%            36.300000  3804.272551  \n",
       "75%            37.150000  3822.383643  \n",
       "max            38.000000  3838.000000  "
      ]
     },
     "execution_count": 260,
     "metadata": {},
     "output_type": "execute_result"
    }
   ],
   "source": [
    "# statistical summary of the data\n",
    "\n",
    "df1.describe()"
   ]
  },
  {
   "cell_type": "code",
   "execution_count": 261,
   "metadata": {},
   "outputs": [
    {
     "data": {
      "text/plain": [
       "12.666356166397021"
      ]
     },
     "execution_count": 261,
     "metadata": {},
     "output_type": "execute_result"
    }
   ],
   "source": [
    "nR = df1['nRT'].mean()/(27.5+273.15)\n",
    "nR"
   ]
  },
  {
   "cell_type": "markdown",
   "metadata": {},
   "source": [
    "### Fitting and Plotting"
   ]
  },
  {
   "cell_type": "code",
   "execution_count": 262,
   "metadata": {},
   "outputs": [
    {
     "data": {
      "image/png": "[encoded data removed]",
      "text/plain": [
       "<Figure size 432x288 with 1 Axes>"
      ]
     },
     "metadata": {
      "needs_background": "light"
     },
     "output_type": "display_data"
    }
   ],
   "source": [
    "# P vs 1/V diagram, should result in linear graph since T is constant\n",
    "\n",
    "fig=plt.figure()\n",
    "ax=fig.add_axes([0,0,1,1])\n",
    "ax.scatter(1/df1['Volume (physical)'], df1['Pressure (physical)'], color='r')\n",
    "ax.set_xlabel('1/Volume (1/ml)')\n",
    "ax.set_ylabel('Pressure (kPA)')\n",
    "plt.show()"
   ]
  },
  {
   "cell_type": "code",
   "execution_count": 263,
   "metadata": {},
   "outputs": [
    {
     "data": {
      "image/png": "[encoded data removed]",
      "text/plain": [
       "<Figure size 432x288 with 1 Axes>"
      ]
     },
     "metadata": {
      "needs_background": "light"
     },
     "output_type": "display_data"
    }
   ],
   "source": [
    "# PV vs time, should result in horizontal line since PV = nRT is constant\n",
    "\n",
    "fig=plt.figure()\n",
    "ax=fig.add_axes([0,0,1,1])\n",
    "ax.scatter(df1.index, df1['nRT'], color='r')\n",
    "ax.set_ylabel('PV')\n",
    "plt.ylim(3500,4200)\n",
    "plt.show()"
   ]
  },
  {
   "cell_type": "code",
   "execution_count": 264,
   "metadata": {},
   "outputs": [],
   "source": [
    "# define linear equation for fitting the data\n",
    "\n",
    "def best_fit(xs,ys):\n",
    "    m = (((mean(xs)*mean(ys)) - mean(xs*ys)) /\n",
    "         ((mean(xs)*mean(xs)) - mean(xs*xs)))\n",
    "    \n",
    "    b = mean(ys) - m*mean(xs)\n",
    "    \n",
    "    return m, b\n",
    "\n",
    "def func(x, m, c):\n",
    "    return m * x + c"
   ]
  },
  {
   "cell_type": "code",
   "execution_count": 265,
   "metadata": {},
   "outputs": [
    {
     "data": {
      "image/png": "[encoded data removed]",
      "text/plain": [
       "<Figure size 432x288 with 1 Axes>"
      ]
     },
     "metadata": {
      "needs_background": "light"
     },
     "output_type": "display_data"
    }
   ],
   "source": [
    "# Fitting the P vs 1/V graph using linear equation to find nRT from the gradient\n",
    "\n",
    "xdata = 1/df1['Volume (physical)']\n",
    "ydata = df1['Pressure (physical)']\n",
    "m, c = best_fit(xdata, ydata)\n",
    "y = func(xdata, m, c)\n",
    "plt.scatter(xdata, ydata)\n",
    "popt, pcov = curve_fit(func, xdata, ydata)\n",
    "SE = np.sqrt(np.diag(pcov))\n",
    "SE_A = SE[0]\n",
    "SE_B = SE[1]\n",
    "plt.plot(xdata, func(xdata, *popt), 'r-', label='fit: slope=' + str(round(popt[0], 4)) + ', std error=' + str(round(SE_A, 4))\n",
    "         + '\\nintercept=' + str(round(popt[1], 4)) + ', std error=' + str(round(SE_B, 4)))\n",
    "plt.xlabel('1/Volume (1/ml)')\n",
    "plt.ylabel('Pressure (kPA)')\n",
    "plt.legend(loc=2, prop={'size': 11})\n",
    "plt.show()"
   ]
  },
  {
   "cell_type": "code",
   "execution_count": 266,
   "metadata": {},
   "outputs": [
    {
     "data": {
      "image/png": "[encoded data removed]",
      "text/plain": [
       "<Figure size 432x288 with 1 Axes>"
      ]
     },
     "metadata": {
      "needs_background": "light"
     },
     "output_type": "display_data"
    },
    {
     "name": "stdout",
     "output_type": "stream",
     "text": [
      "y = 2.15 x + 95.54\n"
     ]
    }
   ],
   "source": [
    "# Fitting physical pressure vs measurement pressure\n",
    "\n",
    "xdata = df1['Pressure']\n",
    "ydata = df1['Pressure (physical)']\n",
    "m, c = best_fit(xdata, ydata)\n",
    "y = func(xdata, m, c)\n",
    "plt.scatter(xdata, ydata)\n",
    "popt, pcov = curve_fit(func, xdata, ydata)\n",
    "SE = np.sqrt(np.diag(pcov))\n",
    "SE_A = SE[0]\n",
    "SE_B = SE[1]\n",
    "slope0 = popt[0] # this is the slope that later will be used for the convertion of pressure data\n",
    "intercept0 = popt[1] # this is the gradient that later will be used for the convertion of pressure data\n",
    "plt.plot(xdata, func(xdata, *popt), 'r-', label='fit: slope=' + str(round(popt[0], 4)) + ', std error=' + str(round(SE_A, 4))\n",
    "         + '\\nintercept=' + str(round(popt[1], 4)) + ', std error=' + str(round(SE_B, 4)))\n",
    "plt.xlabel('Pressure')\n",
    "plt.ylabel('Physical Pressure (kPA)')\n",
    "plt.legend(loc=2, prop={'size': 11})\n",
    "plt.show()\n",
    "print('y =', str(round(slope0, 2)), 'x +', str(round(intercept0, 2)))"
   ]
  },
  {
   "cell_type": "code",
   "execution_count": null,
   "metadata": {},
   "outputs": [],
   "source": []
  },
  {
   "cell_type": "code",
   "execution_count": null,
   "metadata": {},
   "outputs": [],
   "source": []
  },
  {
   "cell_type": "code",
   "execution_count": null,
   "metadata": {},
   "outputs": [],
   "source": []
  },
  {
   "cell_type": "markdown",
   "metadata": {},
   "source": [
    "# Stirling Engine"
   ]
  },
  {
   "cell_type": "code",
   "execution_count": 267,
   "metadata": {},
   "outputs": [],
   "source": [
    "read_df2 = pd.read_csv(\"Data2/stirling2.csv\")\n",
    "df2 = (pd.DataFrame(read_df2['Analog in 1\\tAnalog in 1\\tAnalog in 2'].str.split('\\t').tolist()[1:], columns=['Volume', 'Volume', 'Pressure'])).iloc[:,1:]\n",
    "\n",
    "# converting the data type from string to numeric (float)\n",
    "df2['Volume'] = pd.to_numeric(df2[\"Volume\"])\n",
    "df2['Pressure'] = pd.to_numeric(df2[\"Pressure\"])"
   ]
  },
  {
   "cell_type": "code",
   "execution_count": 268,
   "metadata": {
    "scrolled": true
   },
   "outputs": [
    {
     "data": {
      "text/html": [
       "<div>\n",
       "<style scoped>\n",
       "    .dataframe tbody tr th:only-of-type {\n",
       "        vertical-align: middle;\n",
       "    }\n",
       "\n",
       "    .dataframe tbody tr th {\n",
       "        vertical-align: top;\n",
       "    }\n",
       "\n",
       "    .dataframe thead th {\n",
       "        text-align: right;\n",
       "    }\n",
       "</style>\n",
       "<table border=\"1\" class=\"dataframe\">\n",
       "  <thead>\n",
       "    <tr style=\"text-align: right;\">\n",
       "      <th></th>\n",
       "      <th>Volume</th>\n",
       "      <th>Pressure</th>\n",
       "    </tr>\n",
       "  </thead>\n",
       "  <tbody>\n",
       "    <tr>\n",
       "      <th>0</th>\n",
       "      <td>1.96</td>\n",
       "      <td>3.33</td>\n",
       "    </tr>\n",
       "    <tr>\n",
       "      <th>1</th>\n",
       "      <td>4.87</td>\n",
       "      <td>3.07</td>\n",
       "    </tr>\n",
       "    <tr>\n",
       "      <th>2</th>\n",
       "      <td>2.96</td>\n",
       "      <td>2.10</td>\n",
       "    </tr>\n",
       "    <tr>\n",
       "      <th>3</th>\n",
       "      <td>0.01</td>\n",
       "      <td>2.23</td>\n",
       "    </tr>\n",
       "    <tr>\n",
       "      <th>4</th>\n",
       "      <td>2.41</td>\n",
       "      <td>3.42</td>\n",
       "    </tr>\n",
       "    <tr>\n",
       "      <th>...</th>\n",
       "      <td>...</td>\n",
       "      <td>...</td>\n",
       "    </tr>\n",
       "    <tr>\n",
       "      <th>245</th>\n",
       "      <td>0.03</td>\n",
       "      <td>2.18</td>\n",
       "    </tr>\n",
       "    <tr>\n",
       "      <th>246</th>\n",
       "      <td>2.17</td>\n",
       "      <td>3.38</td>\n",
       "    </tr>\n",
       "    <tr>\n",
       "      <th>247</th>\n",
       "      <td>4.90</td>\n",
       "      <td>3.03</td>\n",
       "    </tr>\n",
       "    <tr>\n",
       "      <th>248</th>\n",
       "      <td>2.78</td>\n",
       "      <td>2.07</td>\n",
       "    </tr>\n",
       "    <tr>\n",
       "      <th>249</th>\n",
       "      <td>0.00</td>\n",
       "      <td>2.27</td>\n",
       "    </tr>\n",
       "  </tbody>\n",
       "</table>\n",
       "<p>250 rows × 2 columns</p>\n",
       "</div>"
      ],
      "text/plain": [
       "     Volume  Pressure\n",
       "0      1.96      3.33\n",
       "1      4.87      3.07\n",
       "2      2.96      2.10\n",
       "3      0.01      2.23\n",
       "4      2.41      3.42\n",
       "..      ...       ...\n",
       "245    0.03      2.18\n",
       "246    2.17      3.38\n",
       "247    4.90      3.03\n",
       "248    2.78      2.07\n",
       "249    0.00      2.27\n",
       "\n",
       "[250 rows x 2 columns]"
      ]
     },
     "execution_count": 268,
     "metadata": {},
     "output_type": "execute_result"
    }
   ],
   "source": [
    "df2"
   ]
  },
  {
   "cell_type": "code",
   "execution_count": 269,
   "metadata": {},
   "outputs": [],
   "source": [
    "# Apply the equation from the syringe experiment\n",
    "df2['Pressure (physical)'] = slope0 * df2['Pressure'] + intercept0"
   ]
  },
  {
   "cell_type": "code",
   "execution_count": 270,
   "metadata": {},
   "outputs": [],
   "source": [
    "# Scale volume to actual value using scaler (same as before)\n",
    "\n",
    "scaler = MinMaxScaler(feature_range=(32,44))\n",
    "vol = -1*(df2['Volume']).values.reshape(-1, 1)\n",
    "scaler.fit(vol)\n",
    "vol2 = scaler.transform(vol)\n",
    "df2['Volume (physical)'] = vol2"
   ]
  },
  {
   "cell_type": "code",
   "execution_count": 271,
   "metadata": {},
   "outputs": [
    {
     "data": {
      "text/html": [
       "<div>\n",
       "<style scoped>\n",
       "    .dataframe tbody tr th:only-of-type {\n",
       "        vertical-align: middle;\n",
       "    }\n",
       "\n",
       "    .dataframe tbody tr th {\n",
       "        vertical-align: top;\n",
       "    }\n",
       "\n",
       "    .dataframe thead th {\n",
       "        text-align: right;\n",
       "    }\n",
       "</style>\n",
       "<table border=\"1\" class=\"dataframe\">\n",
       "  <thead>\n",
       "    <tr style=\"text-align: right;\">\n",
       "      <th></th>\n",
       "      <th>Volume</th>\n",
       "      <th>Pressure</th>\n",
       "      <th>Pressure (physical)</th>\n",
       "      <th>Volume (physical)</th>\n",
       "      <th>nRT</th>\n",
       "    </tr>\n",
       "  </thead>\n",
       "  <tbody>\n",
       "    <tr>\n",
       "      <th>130</th>\n",
       "      <td>4.90</td>\n",
       "      <td>2.84</td>\n",
       "      <td>101.644471</td>\n",
       "      <td>32.024390</td>\n",
       "      <td>3255.102210</td>\n",
       "    </tr>\n",
       "    <tr>\n",
       "      <th>173</th>\n",
       "      <td>4.89</td>\n",
       "      <td>2.81</td>\n",
       "      <td>101.580024</td>\n",
       "      <td>32.048780</td>\n",
       "      <td>3255.515892</td>\n",
       "    </tr>\n",
       "    <tr>\n",
       "      <th>48</th>\n",
       "      <td>4.90</td>\n",
       "      <td>2.86</td>\n",
       "      <td>101.687436</td>\n",
       "      <td>32.024390</td>\n",
       "      <td>3256.478129</td>\n",
       "    </tr>\n",
       "    <tr>\n",
       "      <th>87</th>\n",
       "      <td>4.91</td>\n",
       "      <td>2.90</td>\n",
       "      <td>101.773365</td>\n",
       "      <td>32.000000</td>\n",
       "      <td>3256.747692</td>\n",
       "    </tr>\n",
       "    <tr>\n",
       "      <th>169</th>\n",
       "      <td>4.91</td>\n",
       "      <td>2.92</td>\n",
       "      <td>101.816330</td>\n",
       "      <td>32.000000</td>\n",
       "      <td>3258.122563</td>\n",
       "    </tr>\n",
       "    <tr>\n",
       "      <th>...</th>\n",
       "      <td>...</td>\n",
       "      <td>...</td>\n",
       "      <td>...</td>\n",
       "      <td>...</td>\n",
       "      <td>...</td>\n",
       "    </tr>\n",
       "    <tr>\n",
       "      <th>210</th>\n",
       "      <td>0.00</td>\n",
       "      <td>2.33</td>\n",
       "      <td>100.548870</td>\n",
       "      <td>43.975610</td>\n",
       "      <td>4421.697878</td>\n",
       "    </tr>\n",
       "    <tr>\n",
       "      <th>50</th>\n",
       "      <td>0.03</td>\n",
       "      <td>2.42</td>\n",
       "      <td>100.742212</td>\n",
       "      <td>43.902439</td>\n",
       "      <td>4422.828800</td>\n",
       "    </tr>\n",
       "    <tr>\n",
       "      <th>171</th>\n",
       "      <td>0.01</td>\n",
       "      <td>2.37</td>\n",
       "      <td>100.634800</td>\n",
       "      <td>43.951220</td>\n",
       "      <td>4423.022172</td>\n",
       "    </tr>\n",
       "    <tr>\n",
       "      <th>7</th>\n",
       "      <td>-0.01</td>\n",
       "      <td>2.32</td>\n",
       "      <td>100.527388</td>\n",
       "      <td>44.000000</td>\n",
       "      <td>4423.205065</td>\n",
       "    </tr>\n",
       "    <tr>\n",
       "      <th>89</th>\n",
       "      <td>0.01</td>\n",
       "      <td>2.38</td>\n",
       "      <td>100.656282</td>\n",
       "      <td>43.951220</td>\n",
       "      <td>4423.966348</td>\n",
       "    </tr>\n",
       "  </tbody>\n",
       "</table>\n",
       "<p>250 rows × 5 columns</p>\n",
       "</div>"
      ],
      "text/plain": [
       "     Volume  Pressure  Pressure (physical)  Volume (physical)          nRT\n",
       "130    4.90      2.84           101.644471          32.024390  3255.102210\n",
       "173    4.89      2.81           101.580024          32.048780  3255.515892\n",
       "48     4.90      2.86           101.687436          32.024390  3256.478129\n",
       "87     4.91      2.90           101.773365          32.000000  3256.747692\n",
       "169    4.91      2.92           101.816330          32.000000  3258.122563\n",
       "..      ...       ...                  ...                ...          ...\n",
       "210    0.00      2.33           100.548870          43.975610  4421.697878\n",
       "50     0.03      2.42           100.742212          43.902439  4422.828800\n",
       "171    0.01      2.37           100.634800          43.951220  4423.022172\n",
       "7     -0.01      2.32           100.527388          44.000000  4423.205065\n",
       "89     0.01      2.38           100.656282          43.951220  4423.966348\n",
       "\n",
       "[250 rows x 5 columns]"
      ]
     },
     "execution_count": 271,
     "metadata": {},
     "output_type": "execute_result"
    }
   ],
   "source": [
    "# calculating nRT from PV = nRT\n",
    "df2['nRT'] = df2['Pressure (physical)'] * df2['Volume (physical)']\n",
    "\n",
    "# sort the table by nRT (temperature)\n",
    "df2_temp = df2.sort_values(by=['nRT'])\n",
    "df2_temp"
   ]
  },
  {
   "cell_type": "code",
   "execution_count": 272,
   "metadata": {},
   "outputs": [
    {
     "data": {
      "text/html": [
       "<div>\n",
       "<style scoped>\n",
       "    .dataframe tbody tr th:only-of-type {\n",
       "        vertical-align: middle;\n",
       "    }\n",
       "\n",
       "    .dataframe tbody tr th {\n",
       "        vertical-align: top;\n",
       "    }\n",
       "\n",
       "    .dataframe thead th {\n",
       "        text-align: right;\n",
       "    }\n",
       "</style>\n",
       "<table border=\"1\" class=\"dataframe\">\n",
       "  <thead>\n",
       "    <tr style=\"text-align: right;\">\n",
       "      <th></th>\n",
       "      <th>Volume</th>\n",
       "      <th>Pressure</th>\n",
       "      <th>Pressure (physical)</th>\n",
       "      <th>Volume (physical)</th>\n",
       "      <th>nRT</th>\n",
       "    </tr>\n",
       "  </thead>\n",
       "  <tbody>\n",
       "    <tr>\n",
       "      <th>count</th>\n",
       "      <td>250.000000</td>\n",
       "      <td>250.000000</td>\n",
       "      <td>250.000000</td>\n",
       "      <td>250.000000</td>\n",
       "      <td>250.000000</td>\n",
       "    </tr>\n",
       "    <tr>\n",
       "      <th>mean</th>\n",
       "      <td>2.514240</td>\n",
       "      <td>2.685160</td>\n",
       "      <td>101.311838</td>\n",
       "      <td>37.843317</td>\n",
       "      <td>3831.804662</td>\n",
       "    </tr>\n",
       "    <tr>\n",
       "      <th>std</th>\n",
       "      <td>1.759299</td>\n",
       "      <td>0.550935</td>\n",
       "      <td>1.183539</td>\n",
       "      <td>4.290973</td>\n",
       "      <td>417.138449</td>\n",
       "    </tr>\n",
       "    <tr>\n",
       "      <th>min</th>\n",
       "      <td>-0.010000</td>\n",
       "      <td>1.960000</td>\n",
       "      <td>99.754022</td>\n",
       "      <td>32.000000</td>\n",
       "      <td>3255.102210</td>\n",
       "    </tr>\n",
       "    <tr>\n",
       "      <th>25%</th>\n",
       "      <td>0.765000</td>\n",
       "      <td>2.150000</td>\n",
       "      <td>100.162188</td>\n",
       "      <td>33.560976</td>\n",
       "      <td>3417.790657</td>\n",
       "    </tr>\n",
       "    <tr>\n",
       "      <th>50%</th>\n",
       "      <td>2.580000</td>\n",
       "      <td>2.620000</td>\n",
       "      <td>101.171859</td>\n",
       "      <td>37.682927</td>\n",
       "      <td>3821.160888</td>\n",
       "    </tr>\n",
       "    <tr>\n",
       "      <th>75%</th>\n",
       "      <td>4.270000</td>\n",
       "      <td>3.225000</td>\n",
       "      <td>102.471542</td>\n",
       "      <td>42.109756</td>\n",
       "      <td>4252.583743</td>\n",
       "    </tr>\n",
       "    <tr>\n",
       "      <th>max</th>\n",
       "      <td>4.910000</td>\n",
       "      <td>3.540000</td>\n",
       "      <td>103.148237</td>\n",
       "      <td>44.000000</td>\n",
       "      <td>4423.966348</td>\n",
       "    </tr>\n",
       "  </tbody>\n",
       "</table>\n",
       "</div>"
      ],
      "text/plain": [
       "           Volume    Pressure  Pressure (physical)  Volume (physical)  \\\n",
       "count  250.000000  250.000000           250.000000         250.000000   \n",
       "mean     2.514240    2.685160           101.311838          37.843317   \n",
       "std      1.759299    0.550935             1.183539           4.290973   \n",
       "min     -0.010000    1.960000            99.754022          32.000000   \n",
       "25%      0.765000    2.150000           100.162188          33.560976   \n",
       "50%      2.580000    2.620000           101.171859          37.682927   \n",
       "75%      4.270000    3.225000           102.471542          42.109756   \n",
       "max      4.910000    3.540000           103.148237          44.000000   \n",
       "\n",
       "               nRT  \n",
       "count   250.000000  \n",
       "mean   3831.804662  \n",
       "std     417.138449  \n",
       "min    3255.102210  \n",
       "25%    3417.790657  \n",
       "50%    3821.160888  \n",
       "75%    4252.583743  \n",
       "max    4423.966348  "
      ]
     },
     "execution_count": 272,
     "metadata": {},
     "output_type": "execute_result"
    }
   ],
   "source": [
    "df2_temp.describe()"
   ]
  },
  {
   "cell_type": "code",
   "execution_count": 273,
   "metadata": {},
   "outputs": [],
   "source": [
    "# finding data points that have maximum and minimum temperature\n",
    "\n",
    "T_max = df2_temp['nRT'].max()\n",
    "T_min = df2_temp['nRT'].min()"
   ]
  },
  {
   "cell_type": "code",
   "execution_count": 274,
   "metadata": {},
   "outputs": [],
   "source": [
    "# finding the pressure and volume of the maximum (p1, v1) and minimum (p2, v2) temperature\n",
    "\n",
    "p1, v1 = np.array(df2_temp.loc[df2_temp['nRT']==T_min][['Pressure (physical)', 'Volume (physical)']])[0]\n",
    "p2, v2 = np.array(df2_temp.loc[df2_temp['nRT']==T_max][['Pressure (physical)', 'Volume (physical)']])[0]"
   ]
  },
  {
   "cell_type": "code",
   "execution_count": 275,
   "metadata": {},
   "outputs": [
    {
     "name": "stdout",
     "output_type": "stream",
     "text": [
      "Vmax:  43.951219512195124\n",
      "Vmin:  32.02439024390244\n"
     ]
    }
   ],
   "source": [
    "print(\"Vmax: \", v2)\n",
    "print(\"Vmin: \", v1)"
   ]
  },
  {
   "cell_type": "code",
   "execution_count": 276,
   "metadata": {},
   "outputs": [
    {
     "data": {
      "image/png": "[encoded data removed]",
      "text/plain": [
       "<Figure size 432x288 with 1 Axes>"
      ]
     },
     "metadata": {
      "needs_background": "light"
     },
     "output_type": "display_data"
    }
   ],
   "source": [
    "# plot PV diagram using scatter plot\n",
    "\n",
    "fig=plt.figure()\n",
    "ax=fig.add_axes([0,0,1,1])\n",
    "ax.scatter(df2_temp['Volume (physical)'], df2_temp['Pressure (physical)'], color='r')\n",
    "ax.set_xlabel('Volume (ml)')\n",
    "ax.set_ylabel('Pressure (kPA)')\n",
    "plt.scatter([v1, v2], [p1, p2], color='black', s=100, marker='o')\n",
    "plt.annotate('Tmin', (v1+0.3, p1))\n",
    "plt.annotate('Tmax', (v2-1.2, p2))\n",
    "plt.show()"
   ]
  },
  {
   "cell_type": "code",
   "execution_count": 277,
   "metadata": {
    "scrolled": true
   },
   "outputs": [
    {
     "data": {
      "image/png": "[encoded data removed]",
      "text/plain": [
       "<Figure size 432x288 with 1 Axes>"
      ]
     },
     "metadata": {
      "needs_background": "light"
     },
     "output_type": "display_data"
    },
    {
     "name": "stdout",
     "output_type": "stream",
     "text": [
      "y = -0.12 x + 105.79\n"
     ]
    }
   ],
   "source": [
    "# plotting the best fit line to split data into two parts (upper part and lower part)\n",
    "# splitting is needed so that we can calculate the work done (integral) correctly since the data is in the form of data points and not function (numpy can't automatically calculate the enclosed area)\n",
    "\n",
    "xdata = df2_temp['Volume (physical)']\n",
    "ydata = df2_temp['Pressure (physical)']\n",
    "m, c = best_fit(xdata, ydata)\n",
    "y = func(xdata, m, c)\n",
    "plt.scatter(xdata, ydata)\n",
    "popt, pcov = curve_fit(func, xdata, ydata)\n",
    "SE = np.sqrt(np.diag(pcov))\n",
    "SE_A = SE[0]\n",
    "SE_B = SE[1]\n",
    "slope1 = popt[0]\n",
    "intercept1 = popt[1]\n",
    "plt.plot(xdata, func(xdata, *popt), 'r-', label='fit: slope=' + str(round(popt[0], 4)) + ', std error=' + str(round(SE_A, 4))\n",
    "         + '\\nintercept=' + str(round(popt[1], 4)) + ', std error=' + str(round(SE_B, 4)))\n",
    "plt.xlabel('Pressure')\n",
    "plt.ylabel('Physical Pressure (kPA)')\n",
    "plt.legend(loc=2, prop={'size': 11})\n",
    "plt.show()\n",
    "print('y =', str(round(slope1, 2)), 'x +', str(round(intercept1, 2)))"
   ]
  },
  {
   "cell_type": "code",
   "execution_count": 278,
   "metadata": {
    "scrolled": true
   },
   "outputs": [
    {
     "data": {
      "image/png": "[encoded data removed]",
      "text/plain": [
       "<Figure size 432x288 with 1 Axes>"
      ]
     },
     "metadata": {
      "needs_background": "light"
     },
     "output_type": "display_data"
    }
   ],
   "source": [
    "# plotting the upper and lower part with different colors\n",
    "\n",
    "df2_up = df2_temp.loc[df2_temp['Pressure (physical)'] >= (slope1 * df2_temp['Volume (physical)'] + intercept1)].sort_values(by=['Volume (physical)']).reset_index()\n",
    "df2_down = df2_temp.loc[df2_temp['Pressure (physical)'] < (slope1 * df2_temp['Volume (physical)'] + intercept1)].sort_values(by=['Volume (physical)']).reset_index()\n",
    "\n",
    "fig=plt.figure()\n",
    "ax=fig.add_axes([0,0,1,1])\n",
    "ax.scatter(df2_up['Volume (physical)'], df2_up['Pressure (physical)'], color='r')\n",
    "ax.scatter(df2_down['Volume (physical)'], df2_down['Pressure (physical)'], color='b')\n",
    "ax.set_xlabel('Volume (ml)')\n",
    "ax.set_ylabel('Pressure (kPA)')\n",
    "plt.scatter([v1, v2], [p1, p2], color='black', s=100, marker='o')\n",
    "plt.annotate('Tmin', (v1+0.3, p1))\n",
    "plt.annotate('Tmax', (v2-1.2, p2))\n",
    "plt.show()"
   ]
  },
  {
   "cell_type": "code",
   "execution_count": 279,
   "metadata": {},
   "outputs": [
    {
     "name": "stdout",
     "output_type": "stream",
     "text": [
      "upper area:  1223.011502865761\n",
      "lower area:  1201.8516754522323\n",
      "area enclosed:  21.159827413528774\n"
     ]
    }
   ],
   "source": [
    "# Calculate experimental work done (actual data points of volume as x)\n",
    "\n",
    "y1 = df2_up['Pressure (physical)']  \n",
    "x1 = df2_up['Volume (physical)']\n",
    "\n",
    "y2 = df2_down['Pressure (physical)']  \n",
    "x2 = df2_down['Volume (physical)']\n",
    "\n",
    "# using Trapezoidal rule:\n",
    "\n",
    "area_up = np.trapz(y1,x=x1)\n",
    "print('upper area: ', area_up)\n",
    "\n",
    "area_down = np.trapz(y2,x=x2)\n",
    "print('lower area: ', area_down)\n",
    "\n",
    "Wexp = area_up - area_down\n",
    "print('area enclosed: ', Wexp)"
   ]
  },
  {
   "cell_type": "code",
   "execution_count": 280,
   "metadata": {},
   "outputs": [
    {
     "name": "stdout",
     "output_type": "stream",
     "text": [
      "Work done during compression -1030.5086032188838\n",
      "Work done during expansion:  1400.550608948899\n",
      "Total work done (theoretical):  370.04200573001526\n",
      "Percentage error:  0.942817769102227\n"
     ]
    }
   ],
   "source": [
    "# Calculate theoretical work done with Vmax and Vmin of the Tmax and Tmin points respectively\n",
    "\n",
    "W_compression = T_min * np.log(v1/v2)\n",
    "print('Work done during compression', W_compression)\n",
    "W_expansion = T_max * np.log(v2/v1)\n",
    "print('Work done during expansion: ', W_expansion)\n",
    "W_total = W_expansion + W_compression\n",
    "print('Total work done (theoretical): ', W_total)\n",
    "\n",
    "percentage_error = np.abs(Wexp-W_total)/W_total\n",
    "print(\"Percentage error: \", percentage_error)"
   ]
  },
  {
   "cell_type": "code",
   "execution_count": 281,
   "metadata": {},
   "outputs": [
    {
     "name": "stdout",
     "output_type": "stream",
     "text": [
      "Work done during compression -1036.5994438791615\n",
      "Work done during expansion:  1408.8285899081236\n",
      "Total work done (theoretical):  372.2291460289621\n",
      "Percentage error:  0.9431537598834822\n"
     ]
    }
   ],
   "source": [
    "# Calculate theoretical work done if Vmax and Vmin is exactly 44 and 32 respectively\n",
    "\n",
    "W_compression = T_min * np.log(32/44)\n",
    "print('Work done during compression', W_compression)\n",
    "W_expansion = T_max * np.log(44/32)\n",
    "print('Work done during expansion: ', W_expansion)\n",
    "W_total = W_expansion + W_compression\n",
    "print('Total work done (theoretical): ', W_total)\n",
    "\n",
    "percentage_error = np.abs(Wexp-W_total)/W_total\n",
    "print(\"Percentage error: \", percentage_error)"
   ]
  },
  {
   "cell_type": "markdown",
   "metadata": {},
   "source": [
    "## Plotting the Stirling cycle the other readings"
   ]
  },
  {
   "cell_type": "code",
   "execution_count": 288,
   "metadata": {},
   "outputs": [
    {
     "data": {
      "image/png": "[encoded data removed]",
      "text/plain": [
       "<Figure size 432x288 with 1 Axes>"
      ]
     },
     "metadata": {
      "needs_background": "light"
     },
     "output_type": "display_data"
    }
   ],
   "source": [
    "read_df2 = pd.read_csv(\"Data2/stirling1.csv\")\n",
    "df2 = (pd.DataFrame(read_df2['Analog in 1\\tAnalog in 1\\tAnalog in 2'].str.split('\\t').tolist()[1:], columns=['Volume', 'Volume', 'Pressure'])).iloc[:,1:]\n",
    "\n",
    "# converting the data type from string to numeric (float)\n",
    "df2['Volume'] = pd.to_numeric(df2[\"Volume\"])\n",
    "df2['Pressure'] = pd.to_numeric(df2[\"Pressure\"])\n",
    "\n",
    "# Apply the equation from the syringe experiment\n",
    "df2['Pressure (physical)'] = slope0 * df2['Pressure'] + intercept0\n",
    "\n",
    "# Scale volume to actual value using scaler (same as before)\n",
    "\n",
    "scaler = MinMaxScaler(feature_range=(32,44))\n",
    "vol = -1*(df2['Volume']).values.reshape(-1, 1)\n",
    "scaler.fit(vol)\n",
    "vol2 = scaler.transform(vol)\n",
    "df2['Volume (physical)'] = vol2\n",
    "\n",
    "# Scale volume to actual value using scaler (same as before)\n",
    "\n",
    "scaler = MinMaxScaler(feature_range=(32,44))\n",
    "vol = -1*(df2['Volume']).values.reshape(-1, 1)\n",
    "scaler.fit(vol)\n",
    "vol2 = scaler.transform(vol)\n",
    "df2['Volume (physical)'] = vol2\n",
    "\n",
    "# calculating nRT from PV = nRT\n",
    "df2['nRT'] = df2['Pressure (physical)'] * df2['Volume (physical)']\n",
    "\n",
    "# sort the table by nRT (temperature)\n",
    "df2_temp = df2.sort_values(by=['nRT'])\n",
    "\n",
    "# finding data points that have maximum and minimum temperature\n",
    "\n",
    "T_max = df2_temp['nRT'].max()\n",
    "T_min = df2_temp['nRT'].min()\n",
    "\n",
    "# finding the pressure and volume of the maximum (p1, v1) and minimum (p2, v2) temperature\n",
    "\n",
    "p1, v1 = np.array(df2_temp.loc[df2_temp['nRT']==T_min][['Pressure (physical)', 'Volume (physical)']])[0]\n",
    "p2, v2 = np.array(df2_temp.loc[df2_temp['nRT']==T_max][['Pressure (physical)', 'Volume (physical)']])[0]\n",
    "\n",
    "# plot PV diagram using scatter plot\n",
    "\n",
    "fig=plt.figure()\n",
    "ax=fig.add_axes([0,0,1,1])\n",
    "ax.scatter(df2_temp['Volume (physical)'], df2_temp['Pressure (physical)'], color='b')\n",
    "ax.set_xlabel('Volume (ml)')\n",
    "ax.set_ylabel('Pressure (kPA)')\n",
    "plt.scatter([v1, v2], [p1, p2], color='black', s=100, marker='o')\n",
    "plt.annotate('Tmin', (v1+0.3, p1))\n",
    "plt.annotate('Tmax', (v2-1.2, p2))\n",
    "plt.show()"
   ]
  },
  {
   "cell_type": "code",
   "execution_count": 289,
   "metadata": {},
   "outputs": [
    {
     "data": {
      "image/png": "[encoded data removed]",
      "text/plain": [
       "<Figure size 432x288 with 1 Axes>"
      ]
     },
     "metadata": {
      "needs_background": "light"
     },
     "output_type": "display_data"
    }
   ],
   "source": [
    "read_df2 = pd.read_csv(\"Data2/stirling3.csv\")\n",
    "df2 = (pd.DataFrame(read_df2['Analog in 1\\tAnalog in 1\\tAnalog in 2'].str.split('\\t').tolist()[1:], columns=['Volume', 'Volume', 'Pressure'])).iloc[:,1:]\n",
    "\n",
    "# converting the data type from string to numeric (float)\n",
    "df2['Volume'] = pd.to_numeric(df2[\"Volume\"])\n",
    "df2['Pressure'] = pd.to_numeric(df2[\"Pressure\"])\n",
    "\n",
    "# Apply the equation from the syringe experiment\n",
    "df2['Pressure (physical)'] = slope0 * df2['Pressure'] + intercept0\n",
    "\n",
    "# Scale volume to actual value using scaler (same as before)\n",
    "\n",
    "scaler = MinMaxScaler(feature_range=(32,44))\n",
    "vol = -1*(df2['Volume']).values.reshape(-1, 1)\n",
    "scaler.fit(vol)\n",
    "vol2 = scaler.transform(vol)\n",
    "df2['Volume (physical)'] = vol2\n",
    "\n",
    "# Scale volume to actual value using scaler (same as before)\n",
    "\n",
    "scaler = MinMaxScaler(feature_range=(32,44))\n",
    "vol = -1*(df2['Volume']).values.reshape(-1, 1)\n",
    "scaler.fit(vol)\n",
    "vol2 = scaler.transform(vol)\n",
    "df2['Volume (physical)'] = vol2\n",
    "\n",
    "# calculating nRT from PV = nRT\n",
    "df2['nRT'] = df2['Pressure (physical)'] * df2['Volume (physical)']\n",
    "\n",
    "# sort the table by nRT (temperature)\n",
    "df2_temp = df2.sort_values(by=['nRT'])\n",
    "\n",
    "# finding data points that have maximum and minimum temperature\n",
    "\n",
    "T_max = df2_temp['nRT'].max()\n",
    "T_min = df2_temp['nRT'].min()\n",
    "\n",
    "# finding the pressure and volume of the maximum (p1, v1) and minimum (p2, v2) temperature\n",
    "\n",
    "p1, v1 = np.array(df2_temp.loc[df2_temp['nRT']==T_min][['Pressure (physical)', 'Volume (physical)']])[0]\n",
    "p2, v2 = np.array(df2_temp.loc[df2_temp['nRT']==T_max][['Pressure (physical)', 'Volume (physical)']])[0]\n",
    "\n",
    "# plot PV diagram using scatter plot\n",
    "\n",
    "fig=plt.figure()\n",
    "ax=fig.add_axes([0,0,1,1])\n",
    "ax.scatter(df2_temp['Volume (physical)'], df2_temp['Pressure (physical)'], color='b')\n",
    "ax.set_xlabel('Volume (ml)')\n",
    "ax.set_ylabel('Pressure (kPA)')\n",
    "plt.scatter([v1, v2], [p1, p2], color='black', s=100, marker='o')\n",
    "plt.annotate('Tmin', (v1+0.3, p1))\n",
    "plt.annotate('Tmax', (v2-1.2, p2))\n",
    "plt.show()"
   ]
  },
  {
   "cell_type": "code",
   "execution_count": null,
   "metadata": {},
   "outputs": [],
   "source": []
  },
  {
   "cell_type": "code",
   "execution_count": null,
   "metadata": {},
   "outputs": [],
   "source": []
  },
  {
   "cell_type": "code",
   "execution_count": null,
   "metadata": {},
   "outputs": [],
   "source": []
  },
  {
   "cell_type": "code",
   "execution_count": null,
   "metadata": {},
   "outputs": [],
   "source": []
  },
  {
   "cell_type": "code",
   "execution_count": null,
   "metadata": {},
   "outputs": [],
   "source": []
  }
 ],
 "metadata": {
  "kernelspec": {
   "display_name": "Python 3",
   "language": "python",
   "name": "python3"
  },
  "language_info": {
   "codemirror_mode": {
    "name": "ipython",
    "version": 3
   },
   "file_extension": ".py",
   "mimetype": "text/x-python",
   "name": "python",
   "nbconvert_exporter": "python",
   "pygments_lexer": "ipython3",
   "version": "3.8.5"
  }
 },
 "nbformat": 4,
 "nbformat_minor": 4
}
