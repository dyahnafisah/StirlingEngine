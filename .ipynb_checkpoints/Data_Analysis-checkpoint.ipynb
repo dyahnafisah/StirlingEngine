{
 "cells": [
  {
   "cell_type": "code",
   "execution_count": 12,
   "metadata": {},
   "outputs": [],
   "source": [
    "# importing all the required packages\n",
    "import pandas as pd\n",
    "import numpy as np\n",
    "from sklearn.preprocessing import MinMaxScaler\n",
    "import matplotlib.pyplot as plt\n",
    "import statistics\n",
    "import scipy\n",
    "from scipy.optimize import curve_fit\n",
    "from statistics import mean"
   ]
  },
  {
   "cell_type": "markdown",
   "metadata": {},
   "source": [
    "# Syringe pressure measurement"
   ]
  },
  {
   "cell_type": "markdown",
   "metadata": {},
   "source": [
    "### Data Preparation"
   ]
  },
  {
   "cell_type": "code",
   "execution_count": 13,
   "metadata": {
    "scrolled": true
   },
   "outputs": [
    {
     "data": {
      "text/html": [
       "<div>\n",
       "<style scoped>\n",
       "    .dataframe tbody tr th:only-of-type {\n",
       "        vertical-align: middle;\n",
       "    }\n",
       "\n",
       "    .dataframe tbody tr th {\n",
       "        vertical-align: top;\n",
       "    }\n",
       "\n",
       "    .dataframe thead th {\n",
       "        text-align: right;\n",
       "    }\n",
       "</style>\n",
       "<table border=\"1\" class=\"dataframe\">\n",
       "  <thead>\n",
       "    <tr style=\"text-align: right;\">\n",
       "      <th></th>\n",
       "      <th>Number\\tAnalog in 1\\tAnalog in 2</th>\n",
       "    </tr>\n",
       "  </thead>\n",
       "  <tbody>\n",
       "    <tr>\n",
       "      <th>0</th>\n",
       "      <td>n/#\\tU1/V\\tU2/V</td>\n",
       "    </tr>\n",
       "    <tr>\n",
       "      <th>1</th>\n",
       "      <td>1.0\\t-0.01\\t2.54</td>\n",
       "    </tr>\n",
       "    <tr>\n",
       "      <th>2</th>\n",
       "      <td>2.0\\t0.00\\t2.72</td>\n",
       "    </tr>\n",
       "    <tr>\n",
       "      <th>3</th>\n",
       "      <td>3.0\\t-0.01\\t2.87</td>\n",
       "    </tr>\n",
       "    <tr>\n",
       "      <th>4</th>\n",
       "      <td>4.0\\t0.00\\t3.03</td>\n",
       "    </tr>\n",
       "    <tr>\n",
       "      <th>5</th>\n",
       "      <td>5.0\\t0.00\\t3.20</td>\n",
       "    </tr>\n",
       "    <tr>\n",
       "      <th>6</th>\n",
       "      <td>6.0\\t0.00\\t3.39</td>\n",
       "    </tr>\n",
       "    <tr>\n",
       "      <th>7</th>\n",
       "      <td>7.0\\t-0.01\\t3.61</td>\n",
       "    </tr>\n",
       "    <tr>\n",
       "      <th>8</th>\n",
       "      <td>8.0\\t0.00\\t3.77</td>\n",
       "    </tr>\n",
       "    <tr>\n",
       "      <th>9</th>\n",
       "      <td>9.0\\t-0.01\\t3.97</td>\n",
       "    </tr>\n",
       "    <tr>\n",
       "      <th>10</th>\n",
       "      <td>10.0\\t0.00\\t4.23</td>\n",
       "    </tr>\n",
       "    <tr>\n",
       "      <th>11</th>\n",
       "      <td>11.0\\t0.00\\t4.48</td>\n",
       "    </tr>\n",
       "    <tr>\n",
       "      <th>12</th>\n",
       "      <td>12.0\\t-0.01\\t4.77</td>\n",
       "    </tr>\n",
       "    <tr>\n",
       "      <th>13</th>\n",
       "      <td>13.0\\t0.00\\t5.20</td>\n",
       "    </tr>\n",
       "    <tr>\n",
       "      <th>14</th>\n",
       "      <td>14.0\\t0.00\\t5.44</td>\n",
       "    </tr>\n",
       "    <tr>\n",
       "      <th>15</th>\n",
       "      <td>15.0\\t-0.01\\t5.83</td>\n",
       "    </tr>\n",
       "    <tr>\n",
       "      <th>16</th>\n",
       "      <td>16.0\\t-0.01\\t6.25</td>\n",
       "    </tr>\n",
       "    <tr>\n",
       "      <th>17</th>\n",
       "      <td>17.0\\t-0.01\\t6.70</td>\n",
       "    </tr>\n",
       "    <tr>\n",
       "      <th>18</th>\n",
       "      <td>18.0\\t-0.01\\t7.16</td>\n",
       "    </tr>\n",
       "  </tbody>\n",
       "</table>\n",
       "</div>"
      ],
      "text/plain": [
       "   Number\\tAnalog in 1\\tAnalog in 2\n",
       "0                   n/#\\tU1/V\\tU2/V\n",
       "1                  1.0\\t-0.01\\t2.54\n",
       "2                   2.0\\t0.00\\t2.72\n",
       "3                  3.0\\t-0.01\\t2.87\n",
       "4                   4.0\\t0.00\\t3.03\n",
       "5                   5.0\\t0.00\\t3.20\n",
       "6                   6.0\\t0.00\\t3.39\n",
       "7                  7.0\\t-0.01\\t3.61\n",
       "8                   8.0\\t0.00\\t3.77\n",
       "9                  9.0\\t-0.01\\t3.97\n",
       "10                 10.0\\t0.00\\t4.23\n",
       "11                 11.0\\t0.00\\t4.48\n",
       "12                12.0\\t-0.01\\t4.77\n",
       "13                 13.0\\t0.00\\t5.20\n",
       "14                 14.0\\t0.00\\t5.44\n",
       "15                15.0\\t-0.01\\t5.83\n",
       "16                16.0\\t-0.01\\t6.25\n",
       "17                17.0\\t-0.01\\t6.70\n",
       "18                18.0\\t-0.01\\t7.16"
      ]
     },
     "execution_count": 13,
     "metadata": {},
     "output_type": "execute_result"
    }
   ],
   "source": [
    "# reading csv to dataframe\n",
    "\n",
    "read_df1 = pd.read_csv(\"Data2/syringe1.csv\")\n",
    "read_df1"
   ]
  },
  {
   "cell_type": "code",
   "execution_count": 14,
   "metadata": {
    "scrolled": true
   },
   "outputs": [
    {
     "data": {
      "text/html": [
       "<div>\n",
       "<style scoped>\n",
       "    .dataframe tbody tr th:only-of-type {\n",
       "        vertical-align: middle;\n",
       "    }\n",
       "\n",
       "    .dataframe tbody tr th {\n",
       "        vertical-align: top;\n",
       "    }\n",
       "\n",
       "    .dataframe thead th {\n",
       "        text-align: right;\n",
       "    }\n",
       "</style>\n",
       "<table border=\"1\" class=\"dataframe\">\n",
       "  <thead>\n",
       "    <tr style=\"text-align: right;\">\n",
       "      <th></th>\n",
       "      <th>n</th>\n",
       "      <th>Volume</th>\n",
       "      <th>Pressure</th>\n",
       "    </tr>\n",
       "  </thead>\n",
       "  <tbody>\n",
       "    <tr>\n",
       "      <th>1</th>\n",
       "      <td>1.0</td>\n",
       "      <td>-0.01</td>\n",
       "      <td>2.54</td>\n",
       "    </tr>\n",
       "    <tr>\n",
       "      <th>2</th>\n",
       "      <td>2.0</td>\n",
       "      <td>0.00</td>\n",
       "      <td>2.72</td>\n",
       "    </tr>\n",
       "    <tr>\n",
       "      <th>3</th>\n",
       "      <td>3.0</td>\n",
       "      <td>-0.01</td>\n",
       "      <td>2.87</td>\n",
       "    </tr>\n",
       "    <tr>\n",
       "      <th>4</th>\n",
       "      <td>4.0</td>\n",
       "      <td>0.00</td>\n",
       "      <td>3.03</td>\n",
       "    </tr>\n",
       "    <tr>\n",
       "      <th>5</th>\n",
       "      <td>5.0</td>\n",
       "      <td>0.00</td>\n",
       "      <td>3.20</td>\n",
       "    </tr>\n",
       "    <tr>\n",
       "      <th>6</th>\n",
       "      <td>6.0</td>\n",
       "      <td>0.00</td>\n",
       "      <td>3.39</td>\n",
       "    </tr>\n",
       "    <tr>\n",
       "      <th>7</th>\n",
       "      <td>7.0</td>\n",
       "      <td>-0.01</td>\n",
       "      <td>3.61</td>\n",
       "    </tr>\n",
       "    <tr>\n",
       "      <th>8</th>\n",
       "      <td>8.0</td>\n",
       "      <td>0.00</td>\n",
       "      <td>3.77</td>\n",
       "    </tr>\n",
       "    <tr>\n",
       "      <th>9</th>\n",
       "      <td>9.0</td>\n",
       "      <td>-0.01</td>\n",
       "      <td>3.97</td>\n",
       "    </tr>\n",
       "    <tr>\n",
       "      <th>10</th>\n",
       "      <td>10.0</td>\n",
       "      <td>0.00</td>\n",
       "      <td>4.23</td>\n",
       "    </tr>\n",
       "    <tr>\n",
       "      <th>11</th>\n",
       "      <td>11.0</td>\n",
       "      <td>0.00</td>\n",
       "      <td>4.48</td>\n",
       "    </tr>\n",
       "    <tr>\n",
       "      <th>12</th>\n",
       "      <td>12.0</td>\n",
       "      <td>-0.01</td>\n",
       "      <td>4.77</td>\n",
       "    </tr>\n",
       "    <tr>\n",
       "      <th>13</th>\n",
       "      <td>13.0</td>\n",
       "      <td>0.00</td>\n",
       "      <td>5.20</td>\n",
       "    </tr>\n",
       "    <tr>\n",
       "      <th>14</th>\n",
       "      <td>14.0</td>\n",
       "      <td>0.00</td>\n",
       "      <td>5.44</td>\n",
       "    </tr>\n",
       "    <tr>\n",
       "      <th>15</th>\n",
       "      <td>15.0</td>\n",
       "      <td>-0.01</td>\n",
       "      <td>5.83</td>\n",
       "    </tr>\n",
       "    <tr>\n",
       "      <th>16</th>\n",
       "      <td>16.0</td>\n",
       "      <td>-0.01</td>\n",
       "      <td>6.25</td>\n",
       "    </tr>\n",
       "    <tr>\n",
       "      <th>17</th>\n",
       "      <td>17.0</td>\n",
       "      <td>-0.01</td>\n",
       "      <td>6.70</td>\n",
       "    </tr>\n",
       "    <tr>\n",
       "      <th>18</th>\n",
       "      <td>18.0</td>\n",
       "      <td>-0.01</td>\n",
       "      <td>7.16</td>\n",
       "    </tr>\n",
       "  </tbody>\n",
       "</table>\n",
       "</div>"
      ],
      "text/plain": [
       "       n  Volume  Pressure\n",
       "1    1.0   -0.01      2.54\n",
       "2    2.0    0.00      2.72\n",
       "3    3.0   -0.01      2.87\n",
       "4    4.0    0.00      3.03\n",
       "5    5.0    0.00      3.20\n",
       "6    6.0    0.00      3.39\n",
       "7    7.0   -0.01      3.61\n",
       "8    8.0    0.00      3.77\n",
       "9    9.0   -0.01      3.97\n",
       "10  10.0    0.00      4.23\n",
       "11  11.0    0.00      4.48\n",
       "12  12.0   -0.01      4.77\n",
       "13  13.0    0.00      5.20\n",
       "14  14.0    0.00      5.44\n",
       "15  15.0   -0.01      5.83\n",
       "16  16.0   -0.01      6.25\n",
       "17  17.0   -0.01      6.70\n",
       "18  18.0   -0.01      7.16"
      ]
     },
     "execution_count": 14,
     "metadata": {},
     "output_type": "execute_result"
    }
   ],
   "source": [
    "# converting messy formating table (table in the cell above) to a a well-structured one with correct header\n",
    "df1 = (pd.DataFrame(read_df1['Number\\tAnalog in 1\\tAnalog in 2'].str.split('\\t').tolist(), columns=['n','Volume','Pressure'])).iloc[1:,:]\n",
    "\n",
    "# the data is initially a string\n",
    "# this is for converting the data type from string to numeric (float) so that we can do some math operations\n",
    "df1['Pressure'] = pd.to_numeric(df1['Pressure'])\n",
    "df1['Volume'] = pd.to_numeric(df1['Volume'])\n",
    "\n",
    "# displaying the data\n",
    "df1"
   ]
  },
  {
   "cell_type": "code",
   "execution_count": 15,
   "metadata": {},
   "outputs": [],
   "source": [
    "# defining some pre-determined quantities\n",
    "\n",
    "Vinit = 44  # initial volume before the syringe was pushed\n",
    "Vfinal = 32 # final volume when the syringe has been pushed to minimum volume\n",
    "Pinit = 101 # atmospheric pressure 101 kPa (initial pressure before the syringe was pushed)"
   ]
  },
  {
   "cell_type": "code",
   "execution_count": 16,
   "metadata": {},
   "outputs": [],
   "source": [
    "# from final ideal gas law, PV = nRT, where nRT is always constant\n",
    "\n",
    "nRT = Vinit * Pinit"
   ]
  },
  {
   "cell_type": "code",
   "execution_count": 17,
   "metadata": {},
   "outputs": [
    {
     "data": {
      "text/plain": [
       "138.875"
      ]
     },
     "execution_count": 17,
     "metadata": {},
     "output_type": "execute_result"
    }
   ],
   "source": [
    "# Calculate final pressure from ideal gas law P = nRT/V\n",
    "\n",
    "Pfinal = nRT / Vfinal\n",
    "Pfinal"
   ]
  },
  {
   "cell_type": "code",
   "execution_count": 18,
   "metadata": {},
   "outputs": [],
   "source": [
    "# scaling the data of the pressure from range 101 kPA (Pinit) to 138.875 (Pfinal)\n",
    "# scaler from scipy is a function to scale data\n",
    "# scaler is scaling the data based on the initial data that we have (measured pressure) (distribution of the initial data)\n",
    "scaler = MinMaxScaler(feature_range=(Pinit,Pfinal))\n",
    "pres = df1['Pressure'].values.reshape(-1, 1)\n",
    "scaler.fit(pres)\n",
    "pres2 = scaler.transform(pres)"
   ]
  },
  {
   "cell_type": "code",
   "execution_count": 19,
   "metadata": {
    "scrolled": true
   },
   "outputs": [],
   "source": [
    "# append the scaled pressure to the dataframe\n",
    "\n",
    "df1['Pressure (physical)'] = pres2"
   ]
  },
  {
   "cell_type": "code",
   "execution_count": 20,
   "metadata": {},
   "outputs": [],
   "source": [
    "# input the data of the syringe volume\n",
    "# initial volume is 6 ml with increment of 0.2 for every click\n",
    "syringe_volume = []\n",
    "for i in range(18):\n",
    "    syringe_volume.append(6.0-i*0.2)\n",
    "df1['Syringe Volume'] = syringe_volume"
   ]
  },
  {
   "cell_type": "code",
   "execution_count": 21,
   "metadata": {},
   "outputs": [],
   "source": [
    "# scaling the data of the pressure from range 44 (Vinit) to 32 (Vfinal)\n",
    "scaler = MinMaxScaler(feature_range=(Vfinal,Vinit))\n",
    "vol = df1['Syringe Volume'].values.reshape(-1, 1)\n",
    "scaler.fit(vol)\n",
    "vol2 = scaler.transform(vol)\n",
    "\n",
    "# append the scaled volume to the dataframe\n",
    "df1['Volume (physical)'] = vol2"
   ]
  },
  {
   "cell_type": "code",
   "execution_count": 22,
   "metadata": {
    "scrolled": true
   },
   "outputs": [
    {
     "data": {
      "text/html": [
       "<div>\n",
       "<style scoped>\n",
       "    .dataframe tbody tr th:only-of-type {\n",
       "        vertical-align: middle;\n",
       "    }\n",
       "\n",
       "    .dataframe tbody tr th {\n",
       "        vertical-align: top;\n",
       "    }\n",
       "\n",
       "    .dataframe thead th {\n",
       "        text-align: right;\n",
       "    }\n",
       "</style>\n",
       "<table border=\"1\" class=\"dataframe\">\n",
       "  <thead>\n",
       "    <tr style=\"text-align: right;\">\n",
       "      <th></th>\n",
       "      <th>n</th>\n",
       "      <th>Volume</th>\n",
       "      <th>Pressure</th>\n",
       "      <th>Pressure (physical)</th>\n",
       "      <th>Syringe Volume</th>\n",
       "      <th>Volume (physical)</th>\n",
       "      <th>nRT</th>\n",
       "    </tr>\n",
       "  </thead>\n",
       "  <tbody>\n",
       "    <tr>\n",
       "      <th>1</th>\n",
       "      <td>1.0</td>\n",
       "      <td>-0.01</td>\n",
       "      <td>2.54</td>\n",
       "      <td>101.000000</td>\n",
       "      <td>6.0</td>\n",
       "      <td>44.000000</td>\n",
       "      <td>4444.000000</td>\n",
       "    </tr>\n",
       "    <tr>\n",
       "      <th>2</th>\n",
       "      <td>2.0</td>\n",
       "      <td>0.00</td>\n",
       "      <td>2.72</td>\n",
       "      <td>102.475649</td>\n",
       "      <td>5.8</td>\n",
       "      <td>43.294118</td>\n",
       "      <td>4436.592819</td>\n",
       "    </tr>\n",
       "    <tr>\n",
       "      <th>3</th>\n",
       "      <td>3.0</td>\n",
       "      <td>-0.01</td>\n",
       "      <td>2.87</td>\n",
       "      <td>103.705357</td>\n",
       "      <td>5.6</td>\n",
       "      <td>42.588235</td>\n",
       "      <td>4416.628151</td>\n",
       "    </tr>\n",
       "    <tr>\n",
       "      <th>4</th>\n",
       "      <td>4.0</td>\n",
       "      <td>0.00</td>\n",
       "      <td>3.03</td>\n",
       "      <td>105.017045</td>\n",
       "      <td>5.4</td>\n",
       "      <td>41.882353</td>\n",
       "      <td>4398.360963</td>\n",
       "    </tr>\n",
       "    <tr>\n",
       "      <th>5</th>\n",
       "      <td>5.0</td>\n",
       "      <td>0.00</td>\n",
       "      <td>3.20</td>\n",
       "      <td>106.410714</td>\n",
       "      <td>5.2</td>\n",
       "      <td>41.176471</td>\n",
       "      <td>4381.617647</td>\n",
       "    </tr>\n",
       "    <tr>\n",
       "      <th>6</th>\n",
       "      <td>6.0</td>\n",
       "      <td>0.00</td>\n",
       "      <td>3.39</td>\n",
       "      <td>107.968344</td>\n",
       "      <td>5.0</td>\n",
       "      <td>40.470588</td>\n",
       "      <td>4369.542399</td>\n",
       "    </tr>\n",
       "    <tr>\n",
       "      <th>7</th>\n",
       "      <td>7.0</td>\n",
       "      <td>-0.01</td>\n",
       "      <td>3.61</td>\n",
       "      <td>109.771916</td>\n",
       "      <td>4.8</td>\n",
       "      <td>39.764706</td>\n",
       "      <td>4365.047937</td>\n",
       "    </tr>\n",
       "    <tr>\n",
       "      <th>8</th>\n",
       "      <td>8.0</td>\n",
       "      <td>0.00</td>\n",
       "      <td>3.77</td>\n",
       "      <td>111.083604</td>\n",
       "      <td>4.6</td>\n",
       "      <td>39.058824</td>\n",
       "      <td>4338.794882</td>\n",
       "    </tr>\n",
       "    <tr>\n",
       "      <th>9</th>\n",
       "      <td>9.0</td>\n",
       "      <td>-0.01</td>\n",
       "      <td>3.97</td>\n",
       "      <td>112.723214</td>\n",
       "      <td>4.4</td>\n",
       "      <td>38.352941</td>\n",
       "      <td>4323.266807</td>\n",
       "    </tr>\n",
       "    <tr>\n",
       "      <th>10</th>\n",
       "      <td>10.0</td>\n",
       "      <td>0.00</td>\n",
       "      <td>4.23</td>\n",
       "      <td>114.854708</td>\n",
       "      <td>4.2</td>\n",
       "      <td>37.647059</td>\n",
       "      <td>4323.941940</td>\n",
       "    </tr>\n",
       "    <tr>\n",
       "      <th>11</th>\n",
       "      <td>11.0</td>\n",
       "      <td>0.00</td>\n",
       "      <td>4.48</td>\n",
       "      <td>116.904221</td>\n",
       "      <td>4.0</td>\n",
       "      <td>36.941176</td>\n",
       "      <td>4318.579450</td>\n",
       "    </tr>\n",
       "    <tr>\n",
       "      <th>12</th>\n",
       "      <td>12.0</td>\n",
       "      <td>-0.01</td>\n",
       "      <td>4.77</td>\n",
       "      <td>119.281656</td>\n",
       "      <td>3.8</td>\n",
       "      <td>36.235294</td>\n",
       "      <td>4322.205882</td>\n",
       "    </tr>\n",
       "    <tr>\n",
       "      <th>13</th>\n",
       "      <td>13.0</td>\n",
       "      <td>0.00</td>\n",
       "      <td>5.20</td>\n",
       "      <td>122.806818</td>\n",
       "      <td>3.6</td>\n",
       "      <td>35.529412</td>\n",
       "      <td>4363.254011</td>\n",
       "    </tr>\n",
       "    <tr>\n",
       "      <th>14</th>\n",
       "      <td>14.0</td>\n",
       "      <td>0.00</td>\n",
       "      <td>5.44</td>\n",
       "      <td>124.774351</td>\n",
       "      <td>3.4</td>\n",
       "      <td>34.823529</td>\n",
       "      <td>4345.083270</td>\n",
       "    </tr>\n",
       "    <tr>\n",
       "      <th>15</th>\n",
       "      <td>15.0</td>\n",
       "      <td>-0.01</td>\n",
       "      <td>5.83</td>\n",
       "      <td>127.971591</td>\n",
       "      <td>3.2</td>\n",
       "      <td>34.117647</td>\n",
       "      <td>4366.089572</td>\n",
       "    </tr>\n",
       "    <tr>\n",
       "      <th>16</th>\n",
       "      <td>16.0</td>\n",
       "      <td>-0.01</td>\n",
       "      <td>6.25</td>\n",
       "      <td>131.414773</td>\n",
       "      <td>3.0</td>\n",
       "      <td>33.411765</td>\n",
       "      <td>4390.799465</td>\n",
       "    </tr>\n",
       "    <tr>\n",
       "      <th>17</th>\n",
       "      <td>17.0</td>\n",
       "      <td>-0.01</td>\n",
       "      <td>6.70</td>\n",
       "      <td>135.103896</td>\n",
       "      <td>2.8</td>\n",
       "      <td>32.705882</td>\n",
       "      <td>4418.692131</td>\n",
       "    </tr>\n",
       "    <tr>\n",
       "      <th>18</th>\n",
       "      <td>18.0</td>\n",
       "      <td>-0.01</td>\n",
       "      <td>7.16</td>\n",
       "      <td>138.875000</td>\n",
       "      <td>2.6</td>\n",
       "      <td>32.000000</td>\n",
       "      <td>4444.000000</td>\n",
       "    </tr>\n",
       "  </tbody>\n",
       "</table>\n",
       "</div>"
      ],
      "text/plain": [
       "       n  Volume  Pressure  Pressure (physical)  Syringe Volume  \\\n",
       "1    1.0   -0.01      2.54           101.000000             6.0   \n",
       "2    2.0    0.00      2.72           102.475649             5.8   \n",
       "3    3.0   -0.01      2.87           103.705357             5.6   \n",
       "4    4.0    0.00      3.03           105.017045             5.4   \n",
       "5    5.0    0.00      3.20           106.410714             5.2   \n",
       "6    6.0    0.00      3.39           107.968344             5.0   \n",
       "7    7.0   -0.01      3.61           109.771916             4.8   \n",
       "8    8.0    0.00      3.77           111.083604             4.6   \n",
       "9    9.0   -0.01      3.97           112.723214             4.4   \n",
       "10  10.0    0.00      4.23           114.854708             4.2   \n",
       "11  11.0    0.00      4.48           116.904221             4.0   \n",
       "12  12.0   -0.01      4.77           119.281656             3.8   \n",
       "13  13.0    0.00      5.20           122.806818             3.6   \n",
       "14  14.0    0.00      5.44           124.774351             3.4   \n",
       "15  15.0   -0.01      5.83           127.971591             3.2   \n",
       "16  16.0   -0.01      6.25           131.414773             3.0   \n",
       "17  17.0   -0.01      6.70           135.103896             2.8   \n",
       "18  18.0   -0.01      7.16           138.875000             2.6   \n",
       "\n",
       "    Volume (physical)          nRT  \n",
       "1           44.000000  4444.000000  \n",
       "2           43.294118  4436.592819  \n",
       "3           42.588235  4416.628151  \n",
       "4           41.882353  4398.360963  \n",
       "5           41.176471  4381.617647  \n",
       "6           40.470588  4369.542399  \n",
       "7           39.764706  4365.047937  \n",
       "8           39.058824  4338.794882  \n",
       "9           38.352941  4323.266807  \n",
       "10          37.647059  4323.941940  \n",
       "11          36.941176  4318.579450  \n",
       "12          36.235294  4322.205882  \n",
       "13          35.529412  4363.254011  \n",
       "14          34.823529  4345.083270  \n",
       "15          34.117647  4366.089572  \n",
       "16          33.411765  4390.799465  \n",
       "17          32.705882  4418.692131  \n",
       "18          32.000000  4444.000000  "
      ]
     },
     "execution_count": 22,
     "metadata": {},
     "output_type": "execute_result"
    }
   ],
   "source": [
    "# calculate nRT using P * V for all the observations\n",
    "\n",
    "df1['nRT'] = df1['Pressure (physical)'] * df1['Volume (physical)']\n",
    "df1"
   ]
  },
  {
   "cell_type": "code",
   "execution_count": 23,
   "metadata": {},
   "outputs": [],
   "source": [
    "# to save the cleaned data (table above) into excel, remove the '#' to run\n",
    "# df1.to_excel('syringe_converted1.xlsx')"
   ]
  },
  {
   "cell_type": "code",
   "execution_count": 24,
   "metadata": {},
   "outputs": [
    {
     "data": {
      "text/html": [
       "<div>\n",
       "<style scoped>\n",
       "    .dataframe tbody tr th:only-of-type {\n",
       "        vertical-align: middle;\n",
       "    }\n",
       "\n",
       "    .dataframe tbody tr th {\n",
       "        vertical-align: top;\n",
       "    }\n",
       "\n",
       "    .dataframe thead th {\n",
       "        text-align: right;\n",
       "    }\n",
       "</style>\n",
       "<table border=\"1\" class=\"dataframe\">\n",
       "  <thead>\n",
       "    <tr style=\"text-align: right;\">\n",
       "      <th></th>\n",
       "      <th>Volume</th>\n",
       "      <th>Pressure</th>\n",
       "      <th>Pressure (physical)</th>\n",
       "      <th>Syringe Volume</th>\n",
       "      <th>Volume (physical)</th>\n",
       "      <th>nRT</th>\n",
       "    </tr>\n",
       "  </thead>\n",
       "  <tbody>\n",
       "    <tr>\n",
       "      <th>count</th>\n",
       "      <td>18.000000</td>\n",
       "      <td>18.000000</td>\n",
       "      <td>18.000000</td>\n",
       "      <td>18.000000</td>\n",
       "      <td>18.000000</td>\n",
       "      <td>18.000000</td>\n",
       "    </tr>\n",
       "    <tr>\n",
       "      <th>mean</th>\n",
       "      <td>-0.005000</td>\n",
       "      <td>4.397778</td>\n",
       "      <td>116.230159</td>\n",
       "      <td>4.300000</td>\n",
       "      <td>38.000000</td>\n",
       "      <td>4375.916518</td>\n",
       "    </tr>\n",
       "    <tr>\n",
       "      <th>std</th>\n",
       "      <td>0.005145</td>\n",
       "      <td>1.423222</td>\n",
       "      <td>11.667644</td>\n",
       "      <td>1.067708</td>\n",
       "      <td>3.768381</td>\n",
       "      <td>43.105460</td>\n",
       "    </tr>\n",
       "    <tr>\n",
       "      <th>min</th>\n",
       "      <td>-0.010000</td>\n",
       "      <td>2.540000</td>\n",
       "      <td>101.000000</td>\n",
       "      <td>2.600000</td>\n",
       "      <td>32.000000</td>\n",
       "      <td>4318.579450</td>\n",
       "    </tr>\n",
       "    <tr>\n",
       "      <th>25%</th>\n",
       "      <td>-0.010000</td>\n",
       "      <td>3.247500</td>\n",
       "      <td>106.800122</td>\n",
       "      <td>3.450000</td>\n",
       "      <td>35.000000</td>\n",
       "      <td>4340.366979</td>\n",
       "    </tr>\n",
       "    <tr>\n",
       "      <th>50%</th>\n",
       "      <td>-0.005000</td>\n",
       "      <td>4.100000</td>\n",
       "      <td>113.788961</td>\n",
       "      <td>4.300000</td>\n",
       "      <td>38.000000</td>\n",
       "      <td>4367.815985</td>\n",
       "    </tr>\n",
       "    <tr>\n",
       "      <th>75%</th>\n",
       "      <td>0.000000</td>\n",
       "      <td>5.380000</td>\n",
       "      <td>124.282468</td>\n",
       "      <td>5.150000</td>\n",
       "      <td>41.000000</td>\n",
       "      <td>4412.061354</td>\n",
       "    </tr>\n",
       "    <tr>\n",
       "      <th>max</th>\n",
       "      <td>0.000000</td>\n",
       "      <td>7.160000</td>\n",
       "      <td>138.875000</td>\n",
       "      <td>6.000000</td>\n",
       "      <td>44.000000</td>\n",
       "      <td>4444.000000</td>\n",
       "    </tr>\n",
       "  </tbody>\n",
       "</table>\n",
       "</div>"
      ],
      "text/plain": [
       "          Volume   Pressure  Pressure (physical)  Syringe Volume  \\\n",
       "count  18.000000  18.000000            18.000000       18.000000   \n",
       "mean   -0.005000   4.397778           116.230159        4.300000   \n",
       "std     0.005145   1.423222            11.667644        1.067708   \n",
       "min    -0.010000   2.540000           101.000000        2.600000   \n",
       "25%    -0.010000   3.247500           106.800122        3.450000   \n",
       "50%    -0.005000   4.100000           113.788961        4.300000   \n",
       "75%     0.000000   5.380000           124.282468        5.150000   \n",
       "max     0.000000   7.160000           138.875000        6.000000   \n",
       "\n",
       "       Volume (physical)          nRT  \n",
       "count          18.000000    18.000000  \n",
       "mean           38.000000  4375.916518  \n",
       "std             3.768381    43.105460  \n",
       "min            32.000000  4318.579450  \n",
       "25%            35.000000  4340.366979  \n",
       "50%            38.000000  4367.815985  \n",
       "75%            41.000000  4412.061354  \n",
       "max            44.000000  4444.000000  "
      ]
     },
     "execution_count": 24,
     "metadata": {},
     "output_type": "execute_result"
    }
   ],
   "source": [
    "# statistical summary of the data\n",
    "\n",
    "df1.describe()"
   ]
  },
  {
   "cell_type": "markdown",
   "metadata": {},
   "source": [
    "### Fitting and Plotting"
   ]
  },
  {
   "cell_type": "code",
   "execution_count": 25,
   "metadata": {},
   "outputs": [
    {
     "data": {
      "image/png": "[encoded data removed]",
      "text/plain": [
       "<Figure size 432x288 with 1 Axes>"
      ]
     },
     "metadata": {
      "needs_background": "light"
     },
     "output_type": "display_data"
    }
   ],
   "source": [
    "# P vs 1/V diagram, should result in linear graph since T is constant\n",
    "\n",
    "fig=plt.figure()\n",
    "ax=fig.add_axes([0,0,1,1])\n",
    "ax.scatter(1/df1['Volume (physical)'], df1['Pressure (physical)'], color='r')\n",
    "ax.set_xlabel('1/Volume (1/ml)')\n",
    "ax.set_ylabel('Pressure (kPA)')\n",
    "plt.show()"
   ]
  },
  {
   "cell_type": "code",
   "execution_count": 26,
   "metadata": {},
   "outputs": [
    {
     "data": {
      "image/png": "[encoded data removed]",
      "text/plain": [
       "<Figure size 432x288 with 1 Axes>"
      ]
     },
     "metadata": {
      "needs_background": "light"
     },
     "output_type": "display_data"
    }
   ],
   "source": [
    "# PV vs time, should result in horizontal line since PV = nRT is constant\n",
    "\n",
    "fig=plt.figure()\n",
    "ax=fig.add_axes([0,0,1,1])\n",
    "ax.scatter(df1.index, df1['nRT'], color='r')\n",
    "ax.set_ylabel('PV')\n",
    "plt.ylim(3800,5000)\n",
    "plt.show()"
   ]
  },
  {
   "cell_type": "code",
   "execution_count": 27,
   "metadata": {},
   "outputs": [],
   "source": [
    "# define linear equation for fitting the data\n",
    "\n",
    "def best_fit(xs,ys):\n",
    "    m = (((mean(xs)*mean(ys)) - mean(xs*ys)) /\n",
    "         ((mean(xs)*mean(xs)) - mean(xs*xs)))\n",
    "    \n",
    "    b = mean(ys) - m*mean(xs)\n",
    "    \n",
    "    return m, b\n",
    "\n",
    "def func(x, m, c):\n",
    "    return m * x + c"
   ]
  },
  {
   "cell_type": "code",
   "execution_count": 28,
   "metadata": {},
   "outputs": [
    {
     "data": {
      "image/png": "[encoded data removed]",
      "text/plain": [
       "<Figure size 432x288 with 1 Axes>"
      ]
     },
     "metadata": {
      "needs_background": "light"
     },
     "output_type": "display_data"
    }
   ],
   "source": [
    "# Fitting rhe P vs 1/V graph using linear equation to find nRT from the gradient\n",
    "\n",
    "xdata = 1/df1['Volume (physical)']\n",
    "ydata = df1['Pressure (physical)']\n",
    "m, c = best_fit(xdata, ydata)\n",
    "y = func(xdata, m, c)\n",
    "plt.scatter(xdata, ydata)\n",
    "popt, pcov = curve_fit(func, xdata, ydata)\n",
    "SE = np.sqrt(np.diag(pcov))\n",
    "SE_A = SE[0]\n",
    "SE_B = SE[1]\n",
    "plt.plot(xdata, func(xdata, *popt), 'r-', label='fit: slope=' + str(round(popt[0], 4)) + ', std error=' + str(round(SE_A, 4))\n",
    "         + '\\nintercept=' + str(round(popt[1], 4)) + ', std error=' + str(round(SE_B, 4)))\n",
    "plt.xlabel('1/Volume (1/ml)')\n",
    "plt.ylabel('Pressure (kPA)')\n",
    "plt.legend(loc=2, prop={'size': 11})\n",
    "# plt.savefig('syringe_pressure.jpg')\n",
    "plt.show()"
   ]
  },
  {
   "cell_type": "code",
   "execution_count": 29,
   "metadata": {},
   "outputs": [
    {
     "data": {
      "image/png": "[encoded data removed]",
      "text/plain": [
       "<Figure size 432x288 with 1 Axes>"
      ]
     },
     "metadata": {
      "needs_background": "light"
     },
     "output_type": "display_data"
    },
    {
     "name": "stdout",
     "output_type": "stream",
     "text": [
      "y = 8.2 x + 80.18\n"
     ]
    }
   ],
   "source": [
    "# Fitting physical pressure vs measurement pressure\n",
    "\n",
    "xdata = df1['Pressure']\n",
    "ydata = df1['Pressure (physical)']\n",
    "m, c = best_fit(xdata, ydata)\n",
    "y = func(xdata, m, c)\n",
    "plt.scatter(xdata, ydata)\n",
    "popt, pcov = curve_fit(func, xdata, ydata)\n",
    "SE = np.sqrt(np.diag(pcov))\n",
    "SE_A = SE[0]\n",
    "SE_B = SE[1]\n",
    "slope0 = popt[0] # this is the slope that later will be used for the convertion of pressure data\n",
    "intercept0 = popt[1] # this is the gradient that later will be used for the convertion of pressure data\n",
    "plt.plot(xdata, func(xdata, *popt), 'r-', label='fit: slope=' + str(round(popt[0], 4)) + ', std error=' + str(round(SE_A, 4))\n",
    "         + '\\nintercept=' + str(round(popt[1], 4)) + ', std error=' + str(round(SE_B, 4)))\n",
    "plt.xlabel('Pressure')\n",
    "plt.ylabel('Physical Pressure (kPA)')\n",
    "plt.legend(loc=2, prop={'size': 11})\n",
    "# plt.savefig('syringe_pressure.jpg')\n",
    "plt.show()\n",
    "print('y =', str(round(slope0, 2)), 'x +', str(round(intercept0, 2)))"
   ]
  },
  {
   "cell_type": "code",
   "execution_count": null,
   "metadata": {},
   "outputs": [],
   "source": []
  },
  {
   "cell_type": "code",
   "execution_count": null,
   "metadata": {},
   "outputs": [],
   "source": []
  },
  {
   "cell_type": "code",
   "execution_count": null,
   "metadata": {},
   "outputs": [],
   "source": []
  },
  {
   "cell_type": "markdown",
   "metadata": {},
   "source": [
    "# Stirling Engine"
   ]
  },
  {
   "cell_type": "code",
   "execution_count": 46,
   "metadata": {},
   "outputs": [],
   "source": [
    "# converting messy formating table (table in the cell above) to a a well-structured one with correct header\n",
    "read_df2 = pd.read_csv(\"Data2/stirling2.csv\")\n",
    "df2 = (pd.DataFrame(read_df2['Analog in 1\\tAnalog in 1\\tAnalog in 2'].str.split('\\t').tolist()[1:], columns=['Volume', 'Volume', 'Pressure'])).iloc[:,1:]\n",
    "\n",
    "# the data is initially a string\n",
    "# this is for converting the data type from string to numeric (float) so that we can do some math operations\n",
    "df2['Volume'] = pd.to_numeric(df2[\"Volume\"])\n",
    "df2['Pressure'] = pd.to_numeric(df2[\"Pressure\"])"
   ]
  },
  {
   "cell_type": "code",
   "execution_count": 47,
   "metadata": {},
   "outputs": [
    {
     "data": {
      "text/html": [
       "<div>\n",
       "<style scoped>\n",
       "    .dataframe tbody tr th:only-of-type {\n",
       "        vertical-align: middle;\n",
       "    }\n",
       "\n",
       "    .dataframe tbody tr th {\n",
       "        vertical-align: top;\n",
       "    }\n",
       "\n",
       "    .dataframe thead th {\n",
       "        text-align: right;\n",
       "    }\n",
       "</style>\n",
       "<table border=\"1\" class=\"dataframe\">\n",
       "  <thead>\n",
       "    <tr style=\"text-align: right;\">\n",
       "      <th></th>\n",
       "      <th>Volume</th>\n",
       "      <th>Pressure</th>\n",
       "    </tr>\n",
       "  </thead>\n",
       "  <tbody>\n",
       "    <tr>\n",
       "      <th>0</th>\n",
       "      <td>1.96</td>\n",
       "      <td>3.33</td>\n",
       "    </tr>\n",
       "    <tr>\n",
       "      <th>1</th>\n",
       "      <td>4.87</td>\n",
       "      <td>3.07</td>\n",
       "    </tr>\n",
       "    <tr>\n",
       "      <th>2</th>\n",
       "      <td>2.96</td>\n",
       "      <td>2.10</td>\n",
       "    </tr>\n",
       "    <tr>\n",
       "      <th>3</th>\n",
       "      <td>0.01</td>\n",
       "      <td>2.23</td>\n",
       "    </tr>\n",
       "    <tr>\n",
       "      <th>4</th>\n",
       "      <td>2.41</td>\n",
       "      <td>3.42</td>\n",
       "    </tr>\n",
       "    <tr>\n",
       "      <th>...</th>\n",
       "      <td>...</td>\n",
       "      <td>...</td>\n",
       "    </tr>\n",
       "    <tr>\n",
       "      <th>245</th>\n",
       "      <td>0.03</td>\n",
       "      <td>2.18</td>\n",
       "    </tr>\n",
       "    <tr>\n",
       "      <th>246</th>\n",
       "      <td>2.17</td>\n",
       "      <td>3.38</td>\n",
       "    </tr>\n",
       "    <tr>\n",
       "      <th>247</th>\n",
       "      <td>4.90</td>\n",
       "      <td>3.03</td>\n",
       "    </tr>\n",
       "    <tr>\n",
       "      <th>248</th>\n",
       "      <td>2.78</td>\n",
       "      <td>2.07</td>\n",
       "    </tr>\n",
       "    <tr>\n",
       "      <th>249</th>\n",
       "      <td>0.00</td>\n",
       "      <td>2.27</td>\n",
       "    </tr>\n",
       "  </tbody>\n",
       "</table>\n",
       "<p>250 rows × 2 columns</p>\n",
       "</div>"
      ],
      "text/plain": [
       "     Volume  Pressure\n",
       "0      1.96      3.33\n",
       "1      4.87      3.07\n",
       "2      2.96      2.10\n",
       "3      0.01      2.23\n",
       "4      2.41      3.42\n",
       "..      ...       ...\n",
       "245    0.03      2.18\n",
       "246    2.17      3.38\n",
       "247    4.90      3.03\n",
       "248    2.78      2.07\n",
       "249    0.00      2.27\n",
       "\n",
       "[250 rows x 2 columns]"
      ]
     },
     "execution_count": 47,
     "metadata": {},
     "output_type": "execute_result"
    }
   ],
   "source": [
    "df2"
   ]
  },
  {
   "cell_type": "code",
   "execution_count": 57,
   "metadata": {},
   "outputs": [],
   "source": [
    "# Apply the equation from the syringe experiment\n",
    "df2['Pressure (physical)'] = slope0 * df2['Pressure'] + intercept0"
   ]
  },
  {
   "cell_type": "code",
   "execution_count": 54,
   "metadata": {},
   "outputs": [],
   "source": [
    "# Scale volume to actual value using scaler (same as before)\n",
    "\n",
    "scaler = MinMaxScaler(feature_range=(32,44))\n",
    "vol = -1*(df2['Volume']).values.reshape(-1, 1)\n",
    "scaler.fit(vol)\n",
    "vol2 = scaler.transform(vol)\n",
    "df2['Volume (physical)'] = vol2"
   ]
  },
  {
   "cell_type": "code",
   "execution_count": 58,
   "metadata": {},
   "outputs": [
    {
     "data": {
      "text/html": [
       "<div>\n",
       "<style scoped>\n",
       "    .dataframe tbody tr th:only-of-type {\n",
       "        vertical-align: middle;\n",
       "    }\n",
       "\n",
       "    .dataframe tbody tr th {\n",
       "        vertical-align: top;\n",
       "    }\n",
       "\n",
       "    .dataframe thead th {\n",
       "        text-align: right;\n",
       "    }\n",
       "</style>\n",
       "<table border=\"1\" class=\"dataframe\">\n",
       "  <thead>\n",
       "    <tr style=\"text-align: right;\">\n",
       "      <th></th>\n",
       "      <th>Volume</th>\n",
       "      <th>Pressure</th>\n",
       "      <th>Volume (physical)</th>\n",
       "      <th>Pressure (physical)</th>\n",
       "      <th>Temperature</th>\n",
       "      <th>nRT</th>\n",
       "    </tr>\n",
       "  </thead>\n",
       "  <tbody>\n",
       "    <tr>\n",
       "      <th>177</th>\n",
       "      <td>4.81</td>\n",
       "      <td>2.70</td>\n",
       "      <td>32.243902</td>\n",
       "      <td>102.311688</td>\n",
       "      <td>3298.928096</td>\n",
       "      <td>3298.928096</td>\n",
       "    </tr>\n",
       "    <tr>\n",
       "      <th>17</th>\n",
       "      <td>4.72</td>\n",
       "      <td>2.62</td>\n",
       "      <td>32.463415</td>\n",
       "      <td>101.655844</td>\n",
       "      <td>3300.095819</td>\n",
       "      <td>3300.095819</td>\n",
       "    </tr>\n",
       "    <tr>\n",
       "      <th>220</th>\n",
       "      <td>4.72</td>\n",
       "      <td>2.62</td>\n",
       "      <td>32.463415</td>\n",
       "      <td>101.655844</td>\n",
       "      <td>3300.095819</td>\n",
       "      <td>3300.095819</td>\n",
       "    </tr>\n",
       "    <tr>\n",
       "      <th>95</th>\n",
       "      <td>4.78</td>\n",
       "      <td>2.68</td>\n",
       "      <td>32.317073</td>\n",
       "      <td>102.147727</td>\n",
       "      <td>3301.115576</td>\n",
       "      <td>3301.115576</td>\n",
       "    </tr>\n",
       "    <tr>\n",
       "      <th>216</th>\n",
       "      <td>4.84</td>\n",
       "      <td>2.74</td>\n",
       "      <td>32.170732</td>\n",
       "      <td>102.639610</td>\n",
       "      <td>3301.991368</td>\n",
       "      <td>3301.991368</td>\n",
       "    </tr>\n",
       "    <tr>\n",
       "      <th>...</th>\n",
       "      <td>...</td>\n",
       "      <td>...</td>\n",
       "      <td>...</td>\n",
       "      <td>...</td>\n",
       "      <td>...</td>\n",
       "      <td>...</td>\n",
       "    </tr>\n",
       "    <tr>\n",
       "      <th>222</th>\n",
       "      <td>0.33</td>\n",
       "      <td>2.68</td>\n",
       "      <td>43.170732</td>\n",
       "      <td>102.147727</td>\n",
       "      <td>4409.792129</td>\n",
       "      <td>4409.792129</td>\n",
       "    </tr>\n",
       "    <tr>\n",
       "      <th>97</th>\n",
       "      <td>0.22</td>\n",
       "      <td>2.61</td>\n",
       "      <td>43.439024</td>\n",
       "      <td>101.573864</td>\n",
       "      <td>4412.269540</td>\n",
       "      <td>4412.269540</td>\n",
       "    </tr>\n",
       "    <tr>\n",
       "      <th>179</th>\n",
       "      <td>0.22</td>\n",
       "      <td>2.61</td>\n",
       "      <td>43.439024</td>\n",
       "      <td>101.573864</td>\n",
       "      <td>4412.269540</td>\n",
       "      <td>4412.269540</td>\n",
       "    </tr>\n",
       "    <tr>\n",
       "      <th>144</th>\n",
       "      <td>0.49</td>\n",
       "      <td>2.81</td>\n",
       "      <td>42.780488</td>\n",
       "      <td>103.213474</td>\n",
       "      <td>4415.522767</td>\n",
       "      <td>4415.522767</td>\n",
       "    </tr>\n",
       "    <tr>\n",
       "      <th>183</th>\n",
       "      <td>0.37</td>\n",
       "      <td>2.73</td>\n",
       "      <td>43.073171</td>\n",
       "      <td>102.557630</td>\n",
       "      <td>4417.482301</td>\n",
       "      <td>4417.482301</td>\n",
       "    </tr>\n",
       "  </tbody>\n",
       "</table>\n",
       "<p>250 rows × 6 columns</p>\n",
       "</div>"
      ],
      "text/plain": [
       "     Volume  Pressure  Volume (physical)  Pressure (physical)  Temperature  \\\n",
       "177    4.81      2.70          32.243902           102.311688  3298.928096   \n",
       "17     4.72      2.62          32.463415           101.655844  3300.095819   \n",
       "220    4.72      2.62          32.463415           101.655844  3300.095819   \n",
       "95     4.78      2.68          32.317073           102.147727  3301.115576   \n",
       "216    4.84      2.74          32.170732           102.639610  3301.991368   \n",
       "..      ...       ...                ...                  ...          ...   \n",
       "222    0.33      2.68          43.170732           102.147727  4409.792129   \n",
       "97     0.22      2.61          43.439024           101.573864  4412.269540   \n",
       "179    0.22      2.61          43.439024           101.573864  4412.269540   \n",
       "144    0.49      2.81          42.780488           103.213474  4415.522767   \n",
       "183    0.37      2.73          43.073171           102.557630  4417.482301   \n",
       "\n",
       "             nRT  \n",
       "177  3298.928096  \n",
       "17   3300.095819  \n",
       "220  3300.095819  \n",
       "95   3301.115576  \n",
       "216  3301.991368  \n",
       "..           ...  \n",
       "222  4409.792129  \n",
       "97   4412.269540  \n",
       "179  4412.269540  \n",
       "144  4415.522767  \n",
       "183  4417.482301  \n",
       "\n",
       "[250 rows x 6 columns]"
      ]
     },
     "execution_count": 58,
     "metadata": {},
     "output_type": "execute_result"
    }
   ],
   "source": [
    "# calculating nRT from PV = nRT\n",
    "df2['nRT'] = df2['Pressure (physical)'] * df2['Volume (physical)']\n",
    "\n",
    "# sort the table by nRT (temperature)\n",
    "df2_temp = df2.sort_values(by=['nRT'])\n",
    "df2_temp"
   ]
  },
  {
   "cell_type": "code",
   "execution_count": 59,
   "metadata": {},
   "outputs": [
    {
     "data": {
      "image/png": "[encoded data removed]",
      "text/plain": [
       "<Figure size 432x288 with 1 Axes>"
      ]
     },
     "metadata": {
      "needs_background": "light"
     },
     "output_type": "display_data"
    }
   ],
   "source": [
    "# plot PV diagram using scatter plot\n",
    "\n",
    "fig=plt.figure()\n",
    "ax=fig.add_axes([0,0,1,1])\n",
    "ax.scatter(df2_temp['Volume (physical)'], df2_temp['Pressure (physical)'], color='r')\n",
    "ax.set_xlabel('Volume (ml)')\n",
    "ax.set_ylabel('Pressure (kPA)')\n",
    "plt.show()"
   ]
  },
  {
   "cell_type": "code",
   "execution_count": 62,
   "metadata": {},
   "outputs": [],
   "source": [
    "# finding data points that have maximum and minimum temperature\n",
    "\n",
    "T_max = df2_temp['Temperature'].max()\n",
    "T_min = df2_temp['Temperature'].min()"
   ]
  },
  {
   "cell_type": "code",
   "execution_count": 63,
   "metadata": {},
   "outputs": [],
   "source": [
    "# finding the pressure and volume of the maximum (p1, v1) and minimum (p2, v2) temperature\n",
    "\n",
    "p2, v2 = np.array(df2_temp.loc[df2_temp['Temperature']==T_min][['Pressure (physical)', 'Volume (physical)']])[0]\n",
    "p1, v1 = np.array(df2_temp.loc[df2_temp['Temperature']==T_max][['Pressure (physical)', 'Volume (physical)']])[0]"
   ]
  },
  {
   "cell_type": "code",
   "execution_count": 68,
   "metadata": {
    "scrolled": true
   },
   "outputs": [
    {
     "data": {
      "image/png": "[encoded data removed]",
      "text/plain": [
       "<Figure size 432x288 with 1 Axes>"
      ]
     },
     "metadata": {
      "needs_background": "light"
     },
     "output_type": "display_data"
    },
    {
     "name": "stdout",
     "output_type": "stream",
     "text": [
      "y = -0.45 x + 119.29\n"
     ]
    }
   ],
   "source": [
    "# plotting the best fit line to split data into two parts (upper part and lower part)\n",
    "# splitting is needed so that we can calculate the work done (integral) correctly since the data is in the form of data points and not function (numpy can't automatically calculate the enclosed area)\n",
    "\n",
    "xdata = df2_temp['Volume (physical)']\n",
    "ydata = df2_temp['Pressure (physical)']\n",
    "m, c = best_fit(xdata, ydata)\n",
    "y = func(xdata, m, c)\n",
    "plt.scatter(xdata, ydata)\n",
    "popt, pcov = curve_fit(func, xdata, ydata)\n",
    "SE = np.sqrt(np.diag(pcov))\n",
    "SE_A = SE[0]\n",
    "SE_B = SE[1]\n",
    "slope1 = popt[0]\n",
    "intercept1 = popt[1]\n",
    "plt.plot(xdata, func(xdata, *popt), 'r-', label='fit: slope=' + str(round(popt[0], 4)) + ', std error=' + str(round(SE_A, 4))\n",
    "         + '\\nintercept=' + str(round(popt[1], 4)) + ', std error=' + str(round(SE_B, 4)))\n",
    "plt.xlabel('Pressure')\n",
    "plt.ylabel('Physical Pressure (kPA)')\n",
    "plt.legend(loc=2, prop={'size': 11})\n",
    "plt.show()\n",
    "print('y =', str(round(slope1, 2)), 'x +', str(round(intercept1, 2)))"
   ]
  },
  {
   "cell_type": "code",
   "execution_count": 69,
   "metadata": {
    "scrolled": true
   },
   "outputs": [
    {
     "data": {
      "image/png": "[encoded data removed]",
      "text/plain": [
       "<Figure size 432x288 with 1 Axes>"
      ]
     },
     "metadata": {
      "needs_background": "light"
     },
     "output_type": "display_data"
    }
   ],
   "source": [
    "# plotting the upper and lower part with different colors\n",
    "\n",
    "df2_up = df2_temp.loc[df2_temp['Pressure (physical)'] >= (slope1 * df2_temp['Volume (physical)'] + intercept1)].sort_values(by=['Volume (physical)']).reset_index()\n",
    "df2_down = df2_temp.loc[df2_temp['Pressure (physical)'] < (slope1 * df2_temp['Volume (physical)'] + intercept1)].sort_values(by=['Volume (physical)']).reset_index()\n",
    "\n",
    "fig=plt.figure()\n",
    "ax=fig.add_axes([0,0,1,1])\n",
    "ax.scatter(df2_up['Volume (physical)'], df2_up['Pressure (physical)'], color='r')\n",
    "ax.scatter(df2_down['Volume (physical)'], df2_down['Pressure (physical)'], color='b')\n",
    "ax.set_xlabel('Volume (ml)')\n",
    "ax.set_ylabel('Pressure (kPA)')\n",
    "plt.scatter([v1, v2], [p1, p2], color='black', s=100, marker='x')\n",
    "plt.annotate('Tmin', (v2+0.3, p2+0.5))\n",
    "plt.annotate('Tmax', (v1-1, p1-1))\n",
    "plt.show()"
   ]
  },
  {
   "cell_type": "code",
   "execution_count": 101,
   "metadata": {
    "scrolled": true
   },
   "outputs": [
    {
     "name": "stdout",
     "output_type": "stream",
     "text": [
      "upper area:  1255.0973692104712\n",
      "lower area:  1175.0789551357727\n",
      "area enclosed:  80.01841407469851\n"
     ]
    }
   ],
   "source": [
    "# Calculate experimental work done (equally spaced dx)\n",
    "\n",
    "dx_up = (df2_up['Volume (physical)'].max() - df2_up['Volume (physical)'].min())/len(df2_up)\n",
    "x_up = []\n",
    "for i in range(len(df2_up)):\n",
    "    x_up.append(32+i*dx_up)\n",
    "dx_down = (df2_down['Volume (physical)'].max() - df2_down['Volume (physical)'].min())/len(df2_down)\n",
    "x_down = []\n",
    "for i in range(len(df2_down)):\n",
    "    x_down.append(32+i*dx_down)\n",
    "\n",
    "y1 = df2_up['Pressure (physical)']  \n",
    "x1 = df2_up['Volume (physical)']\n",
    "\n",
    "y2 = df2_down['Pressure (physical)']  \n",
    "x2 = df2_down['Volume (physical)']\n",
    "\n",
    "# using Trapezoidal rule:\n",
    "\n",
    "area_up = np.trapz(y1,x=x_up)\n",
    "print('upper area: ', area_up)\n",
    "\n",
    "area_down = np.trapz(y2,x=x_down)\n",
    "print('lower area: ', area_down)\n",
    "\n",
    "print('area enclosed: ', area_up - area_down)"
   ]
  },
  {
   "cell_type": "code",
   "execution_count": 102,
   "metadata": {},
   "outputs": [
    {
     "name": "stdout",
     "output_type": "stream",
     "text": [
      "upper area:  1274.8420672315492\n",
      "lower area:  1173.2642045454545\n",
      "area enclosed:  101.5778626860947\n"
     ]
    }
   ],
   "source": [
    "# Calculate experimental work done (actual data points of volume as x)\n",
    "\n",
    "y1 = df2_up['Pressure (physical)']  \n",
    "x1 = df2_up['Volume (physical)']\n",
    "\n",
    "y2 = df2_down['Pressure (physical)']  \n",
    "x2 = df2_down['Volume (physical)']\n",
    "\n",
    "# using Trapezoidal rule:\n",
    "\n",
    "area_up = np.trapz(y1,x=x1)\n",
    "print('upper area: ', area_up)\n",
    "\n",
    "area_down = np.trapz(y2,x=x2)\n",
    "print('lower area: ', area_down)\n",
    "\n",
    "print('area enclosed: ', area_up - area_down)"
   ]
  },
  {
   "cell_type": "code",
   "execution_count": 103,
   "metadata": {},
   "outputs": [
    {
     "name": "stdout",
     "output_type": "stream",
     "text": [
      "Work done during compression -955.2750978677464\n",
      "Work done during expansion:  1279.1763610678047\n",
      "Total work done (theoretical):  323.90126320005834\n"
     ]
    }
   ],
   "source": [
    "# Calculate theoretical work done with Vmax and Vmin of the Tmax and Tmin points respectively\n",
    "\n",
    "W_compression = T_min * np.log(v2/v1)\n",
    "print('Work done during compression', W_compression)\n",
    "W_expansion = T_max * np.log(v1/v2)\n",
    "print('Work done during expansion: ', W_expansion)\n",
    "W_total = W_expansion + W_compression\n",
    "print('Total work done (theoretical): ', W_total)"
   ]
  },
  {
   "cell_type": "code",
   "execution_count": 104,
   "metadata": {},
   "outputs": [
    {
     "name": "stdout",
     "output_type": "stream",
     "text": [
      "Work done during compression -1050.5559609565728\n",
      "Work done during expansion:  1406.7637209784873\n",
      "Total work done (theoretical):  356.2077600219145\n"
     ]
    }
   ],
   "source": [
    "# Calculate theoretical work done if Vmax and Vmin is exactly 44 and 32 respectively\n",
    "\n",
    "W_compression = T_min * np.log(32/44)\n",
    "print('Work done during compression', W_compression)\n",
    "W_expansion = T_max * np.log(44/32)\n",
    "print('Work done during expansion: ', W_expansion)\n",
    "W_total = W_expansion + W_compression\n",
    "print('Total work done (theoretical): ', W_total)"
   ]
  },
  {
   "cell_type": "code",
   "execution_count": null,
   "metadata": {},
   "outputs": [],
   "source": []
  },
  {
   "cell_type": "code",
   "execution_count": null,
   "metadata": {},
   "outputs": [],
   "source": []
  },
  {
   "cell_type": "code",
   "execution_count": null,
   "metadata": {},
   "outputs": [],
   "source": []
  },
  {
   "cell_type": "code",
   "execution_count": null,
   "metadata": {},
   "outputs": [],
   "source": []
  }
 ],
 "metadata": {
  "kernelspec": {
   "display_name": "Python 3",
   "language": "python",
   "name": "python3"
  },
  "language_info": {
   "codemirror_mode": {
    "name": "ipython",
    "version": 3
   },
   "file_extension": ".py",
   "mimetype": "text/x-python",
   "name": "python",
   "nbconvert_exporter": "python",
   "pygments_lexer": "ipython3",
   "version": "3.8.5"
  }
 },
 "nbformat": 4,
 "nbformat_minor": 4
}
